{
 "cells": [
  {
   "cell_type": "code",
   "execution_count": 2,
   "id": "964629e5",
   "metadata": {},
   "outputs": [],
   "source": [
    "import numpy as np\n",
    "from numpy import linalg\n",
    "import random \n",
    "import ot\n",
    "import matplotlib.pyplot as plt\n",
    "\n",
    "random.seed(10)"
   ]
  },
  {
   "cell_type": "code",
   "execution_count": 3,
   "id": "5f1d869d",
   "metadata": {},
   "outputs": [],
   "source": [
    "## Defining the function\n",
    "def matrix_scaling(A,r,c, tolerance = 10**(-8)):\n",
    "    (m,n) = np.shape(A)\n",
    "    one_m = np.zeros(m) + 1\n",
    "    one_n = np.zeros(n) + 1\n",
    "    row_sum = A@one_n\n",
    "    column_sum = A.T@one_m\n",
    "    \n",
    "    x_scale = one_m\n",
    "    y_scale = one_n\n",
    "    k = 1\n",
    "    \n",
    "    while max(np.linalg.norm(r - row_sum, np.inf), np.linalg.norm(c - column_sum, np.inf)) > tolerance:\n",
    "        k = k+1\n",
    "        if k % 2 == 0:\n",
    "            x = r/row_sum\n",
    "            x_scale = x_scale*x\n",
    "            A = np.diag(x)@A\n",
    "        else:\n",
    "            y = c/column_sum\n",
    "            y_scale = y_scale*y\n",
    "            A = A@np.diag(y)\n",
    "                 \n",
    "        #print(max(np.linalg.norm(r - row_sum, np.inf), np.linalg.norm(c - column_sum, np.inf)))\n",
    "        row_sum = A@one_n\n",
    "        column_sum = A.T@one_m\n",
    "    \n",
    "    return x_scale, y_scale, A"
   ]
  },
  {
   "cell_type": "code",
   "execution_count": 3,
   "id": "79df5113",
   "metadata": {},
   "outputs": [],
   "source": [
    "def normalise(x,y):\n",
    "    n_x = np.linalg.norm(x,1)\n",
    "    n_y = np.linalg.norm(y,1)\n",
    "    alpha = np.sqrt(n_x/n_y)\n",
    "    \n",
    "    return x/alpha, y*alpha"
   ]
  },
  {
   "cell_type": "code",
   "execution_count": 4,
   "id": "6b79d40a",
   "metadata": {},
   "outputs": [],
   "source": [
    "#Sampling from chi squared distribution\n",
    "\n",
    "m = 50 #size of matrix\n",
    "n = 1000 # #-of samples\n",
    "\n",
    "sample = np.random.chisquare(1,(m,m,n))\n",
    "r = np.zeros(m)+1\n",
    "c = r\n",
    "\n",
    "#Storing Scaling Factors:\n",
    "\n",
    "x_factors = np.zeros((n,m))\n",
    "y_factors = np.zeros((n,m))\n",
    "matrices = np.zeros((m,m,n))\n",
    "\n",
    "\n",
    "for i in range(0,n):\n",
    "    A = sample[:,:,i]\n",
    "    x, y, B = matrix_scaling(sample[:,:,i], r , c)\n",
    "    x_factors[i,:] = x\n",
    "    y_factors[i: ] = y\n",
    "    matrices[:,:,i] = B   \n",
    "\n",
    "min_val = []\n",
    "for i in range(0,n):\n",
    "    min_val = min_val + [np.min(matrices[:,:,i])]\n",
    "    \n",
    "norm = []\n",
    "mean = np.zeros((m,m))+1\n",
    "mean_scaled = 1/m*(np.zeros((m,m))+1)\n",
    "for i in range(0,n):\n",
    "    norm_1 = [np.linalg.norm(matrices[:,:,i] - mean, 2)]\n",
    "    norm = norm + norm_1\n",
    "\n",
    "min_val_2 = []\n",
    "for i in range(0,n):\n",
    "    min_val_2 = min_val_2 + [np.min(matrices[:,:,i]/sample[:,:,i])]\n",
    "    \n",
    "max_val_2 = []\n",
    "for i in range(0,n):\n",
    "    max_val_2 = min_val_2 + [np.max(matrices[:,:,i]/sample[:,:,i])]\n"
   ]
  },
  {
   "cell_type": "code",
   "execution_count": 5,
   "id": "03be805b",
   "metadata": {},
   "outputs": [],
   "source": [
    "#Approximate scaling of matrix by scaling factors of the mean\n",
    "\n",
    "x,y,B = matrix_scaling(mean,r,c)\n",
    "x_mean, y_mean = normalise(x,y)\n",
    "\n",
    "#Distribution of row and column scaling: Cutoff less than 1 (Necessary to apply stability of scaling factors result)\n",
    "\n",
    "max_row_change = []\n",
    "max_col_change = []\n",
    "\n",
    "avg_row_change = []\n",
    "avg_col_change = []\n",
    "\n",
    "min_row_change = []\n",
    "min_col_change = []\n",
    "\n",
    "for i in range(0,n):\n",
    "    B = np.diag(x_mean)@sample[:,:,i]@np.diag(y_mean)\n",
    "    row_sum = B@r \n",
    "    col_sum = B.T@c\n",
    "    \n",
    "    row_sum_change = np.abs(row_sum-1)\n",
    "    col_sum_change = np.abs(col_sum-1)\n",
    "    \n",
    "    max_row_change = max_row_change + [np.max(row_sum_change)]\n",
    "    max_col_change = max_col_change + [np.max(col_sum_change)]\n",
    "    \n",
    "    avg_row_change = avg_row_change + [np.mean(row_sum_change)]\n",
    "    avg_col_change = avg_col_change + [np.mean(col_sum_change)]\n",
    "\n",
    "    min_row_change = min_row_change + [np.min(row_sum_change)]\n",
    "    min_col_change = min_col_change + [np.min(col_sum_change)]"
   ]
  },
  {
   "cell_type": "code",
   "execution_count": 6,
   "id": "5f5da895",
   "metadata": {},
   "outputs": [
    {
     "data": {
      "image/png": "[encoded data removed]",
      "text/plain": [
       "<Figure size 720x504 with 6 Axes>"
      ]
     },
     "metadata": {
      "needs_background": "light"
     },
     "output_type": "display_data"
    }
   ],
   "source": [
    "#Histograms of approximate scaling:\n",
    "\n",
    "fig, ax = plt.subplots(2, 3, figsize =(10, 7),sharex='col', sharey='row')\n",
    "ax[0,0].hist(np.array(avg_row_change), bins = 200)\n",
    "ax[1,0].hist(np.array(avg_col_change), bins = 200)\n",
    "\n",
    "ax[0,0].set(xlabel = \"Average Row change\", ylabel= \"Frequency\") \n",
    "ax[1,0].set(xlabel = \"Average Col change\", ylabel= \"Frequency\") \n",
    "\n",
    "ax[0,1].hist(np.array(max_row_change), bins = 200)\n",
    "ax[1,1].hist(np.array(max_col_change), bins = 200)\n",
    "\n",
    "ax[0,1].set(xlabel = \"Max Row change\", ylabel= \"Frequency\") \n",
    "ax[1,1].set(xlabel = \"Max Col change\", ylabel= \"Frequency\")\n",
    "\n",
    "ax[0,2].hist(np.array(min_row_change), bins = 200)\n",
    "ax[1,2].hist(np.array(min_col_change), bins = 200)\n",
    "\n",
    "ax[0,2].set(xlabel = \"Min Row change\", ylabel= \"Frequency\") \n",
    "ax[1,2].set(xlabel = \"Min Col change\", ylabel= \"Frequency\")\n",
    "\n",
    "plt.show()"
   ]
  },
  {
   "cell_type": "code",
   "execution_count": 7,
   "id": "524acb2d",
   "metadata": {},
   "outputs": [],
   "source": [
    "#Sampling from chi squared distribution\n",
    "\n",
    "m = 100 #size of matrix\n",
    "n = 1000 # #-of samples\n",
    "\n",
    "sample = np.random.chisquare(1,(m,m,n))\n",
    "r = np.zeros(m)+1\n",
    "c = r\n",
    "\n",
    "#Storing Scaling Factors:\n",
    "\n",
    "x_factors = np.zeros((n,m))\n",
    "y_factors = np.zeros((n,m))\n",
    "matrices = np.zeros((m,m,n))\n",
    "\n",
    "\n",
    "for i in range(0,n):\n",
    "    A = sample[:,:,i]\n",
    "    x, y, B = matrix_scaling(sample[:,:,i], r , c)\n",
    "    x_factors[i,:] = x\n",
    "    y_factors[i: ] = y\n",
    "    matrices[:,:,i] = B   \n"
   ]
  },
  {
   "cell_type": "code",
   "execution_count": 8,
   "id": "f9cc57b0",
   "metadata": {},
   "outputs": [],
   "source": [
    "#Approximate scaling of matrix by scaling factors of the mean\n",
    "\n",
    "mean = np.zeros((m,m))+1\n",
    "x,y,B = matrix_scaling(mean,r,c)\n",
    "x_mean, y_mean = normalise(x,y)\n",
    "\n",
    "#Distribution of row and column scaling: Cutoff less than 1 (Necessary to apply stability of scaling factors result)\n",
    "\n",
    "max_row_change = []\n",
    "max_col_change = []\n",
    "\n",
    "avg_row_change = []\n",
    "avg_col_change = []\n",
    "\n",
    "min_row_change = []\n",
    "min_col_change = []\n",
    "\n",
    "for i in range(0,n):\n",
    "    B = np.diag(x_mean)@sample[:,:,i]@np.diag(y_mean)\n",
    "    row_sum = B@r \n",
    "    col_sum = B.T@c\n",
    "    \n",
    "    row_sum_change = np.abs(row_sum-1)\n",
    "    col_sum_change = np.abs(col_sum-1)\n",
    "    \n",
    "    max_row_change = max_row_change + [np.max(row_sum_change)]\n",
    "    max_col_change = max_col_change + [np.max(col_sum_change)]\n",
    "    \n",
    "    avg_row_change = avg_row_change + [np.mean(row_sum_change)]\n",
    "    avg_col_change = avg_col_change + [np.mean(col_sum_change)]\n",
    "\n",
    "    min_row_change = min_row_change + [np.min(row_sum_change)]\n",
    "    min_col_change = min_col_change + [np.min(col_sum_change)]\n"
   ]
  },
  {
   "cell_type": "code",
   "execution_count": 9,
   "id": "6d8b8d7b",
   "metadata": {},
   "outputs": [
    {
     "data": {
      "image/png": "[encoded data removed]",
      "text/plain": [
       "<Figure size 720x504 with 6 Axes>"
      ]
     },
     "metadata": {
      "needs_background": "light"
     },
     "output_type": "display_data"
    }
   ],
   "source": [
    "#Histograms of approximate scaling:\n",
    "\n",
    "fig, ax = plt.subplots(2, 3, figsize =(10, 7),sharex='col', sharey='row')\n",
    "ax[0,0].hist(np.array(avg_row_change), bins = 200)\n",
    "ax[1,0].hist(np.array(avg_col_change), bins = 200)\n",
    "\n",
    "ax[0,0].set(xlabel = \"Average Row change\", ylabel= \"Frequency\") \n",
    "ax[1,0].set(xlabel = \"Average Col change\", ylabel= \"Frequency\") \n",
    "\n",
    "ax[0,1].hist(np.array(max_row_change), bins = 200)\n",
    "ax[1,1].hist(np.array(max_col_change), bins = 200)\n",
    "\n",
    "ax[0,1].set(xlabel = \"Max Row change\", ylabel= \"Frequency\") \n",
    "ax[1,1].set(xlabel = \"Max Col change\", ylabel= \"Frequency\")\n",
    "\n",
    "ax[0,2].hist(np.array(min_row_change), bins = 200)\n",
    "ax[1,2].hist(np.array(min_col_change), bins = 200)\n",
    "\n",
    "ax[0,2].set(xlabel = \"Min Row change\", ylabel= \"Frequency\") \n",
    "ax[1,2].set(xlabel = \"Min Col change\", ylabel= \"Frequency\")\n",
    "\n",
    "plt.show()"
   ]
  },
  {
   "cell_type": "code",
   "execution_count": 10,
   "id": "3f4ba941",
   "metadata": {},
   "outputs": [
    {
     "data": {
      "image/png": "[encoded data removed]",
      "text/plain": [
       "<Figure size 720x288 with 3 Axes>"
      ]
     },
     "metadata": {
      "needs_background": "light"
     },
     "output_type": "display_data"
    }
   ],
   "source": [
    "fig, ax = plt.subplots(1, 3,\n",
    "                        figsize =(10, 4),\n",
    "                        tight_layout = True)\n",
    " \n",
    "ax[0].hist(np.array(min_val), bins = 200)\n",
    "ax[0].set(xlabel = \"Minimum Entry\", ylabel= \"Frequency\")\n",
    "\n",
    "#ax[1,0].hist(np.array(norm), bins = 100)\n",
    "#ax[1,0].set(xlabel = \"Norm Diff Scaled\", ylabel= \"Frequency\")\n",
    "\n",
    "ax[1].hist(np.array(min_val_2)*50, bins = 200) #Multiplying by factor of 50 to off-set change in row and col sums\n",
    "\n",
    "ax[1].set(xlabel = \"Scaled Minimum Val\", ylabel= \"Frequency\")\n",
    "\n",
    "ax[2].hist(np.array(max_val_2)*50, bins = 200)\n",
    "ax[2].set(xlabel = \"Scaled Maximum Val\", ylabel= \"Frequency\")\n",
    "\n",
    "plt.show()"
   ]
  },
  {
   "cell_type": "code",
   "execution_count": null,
   "id": "d5938313",
   "metadata": {},
   "outputs": [],
   "source": []
  },
  {
   "cell_type": "code",
   "execution_count": 11,
   "id": "9083baa3",
   "metadata": {},
   "outputs": [
    {
     "name": "stdout",
     "output_type": "stream",
     "text": [
      "50\n",
      "150\n",
      "250\n",
      "350\n",
      "450\n",
      "550\n"
     ]
    },
    {
     "ename": "KeyboardInterrupt",
     "evalue": "",
     "output_type": "error",
     "traceback": [
      "\u001b[0;31m---------------------------------------------------------------------------\u001b[0m",
      "\u001b[0;31mKeyboardInterrupt\u001b[0m                         Traceback (most recent call last)",
      "\u001b[0;32m/var/folders/1m/d1lrmr2n7gvdmlys8cnm3nt40000gn/T/ipykernel_15703/1777892142.py\u001b[0m in \u001b[0;36m<module>\u001b[0;34m\u001b[0m\n\u001b[1;32m     25\u001b[0m         \u001b[0mx_factors\u001b[0m\u001b[0;34m[\u001b[0m\u001b[0mi\u001b[0m\u001b[0;34m,\u001b[0m\u001b[0;34m:\u001b[0m\u001b[0;34m]\u001b[0m \u001b[0;34m=\u001b[0m \u001b[0mx\u001b[0m\u001b[0;34m\u001b[0m\u001b[0;34m\u001b[0m\u001b[0m\n\u001b[1;32m     26\u001b[0m         \u001b[0my_factors\u001b[0m\u001b[0;34m[\u001b[0m\u001b[0mi\u001b[0m\u001b[0;34m:\u001b[0m \u001b[0;34m]\u001b[0m \u001b[0;34m=\u001b[0m \u001b[0my\u001b[0m\u001b[0;34m\u001b[0m\u001b[0;34m\u001b[0m\u001b[0m\n\u001b[0;32m---> 27\u001b[0;31m         \u001b[0mmatrices\u001b[0m\u001b[0;34m[\u001b[0m\u001b[0;34m:\u001b[0m\u001b[0;34m,\u001b[0m\u001b[0;34m:\u001b[0m\u001b[0;34m,\u001b[0m\u001b[0mi\u001b[0m\u001b[0;34m]\u001b[0m \u001b[0;34m=\u001b[0m \u001b[0mB\u001b[0m\u001b[0;34m\u001b[0m\u001b[0;34m\u001b[0m\u001b[0m\n\u001b[0m\u001b[1;32m     28\u001b[0m \u001b[0;34m\u001b[0m\u001b[0m\n\u001b[1;32m     29\u001b[0m     \u001b[0mmean\u001b[0m \u001b[0;34m=\u001b[0m \u001b[0mnp\u001b[0m\u001b[0;34m.\u001b[0m\u001b[0mzeros\u001b[0m\u001b[0;34m(\u001b[0m\u001b[0;34m(\u001b[0m\u001b[0mm\u001b[0m\u001b[0;34m,\u001b[0m\u001b[0mm\u001b[0m\u001b[0;34m)\u001b[0m\u001b[0;34m)\u001b[0m\u001b[0;34m+\u001b[0m\u001b[0;36m1\u001b[0m\u001b[0;34m\u001b[0m\u001b[0;34m\u001b[0m\u001b[0m\n",
      "\u001b[0;31mKeyboardInterrupt\u001b[0m: "
     ]
    }
   ],
   "source": [
    "#####Obtaining the Quantiles\n",
    "\n",
    "#Using 80 percent quantiles:\n",
    "\n",
    "delta = []\n",
    "for j in range(50,1000,100):\n",
    "    print(j)\n",
    "    m = j #size of matrix\n",
    "    n = 1000 # #-of samples\n",
    "\n",
    "    sample = np.random.chisquare(1,(m,m,n))\n",
    "    r = np.zeros(m)+1\n",
    "    c = r \n",
    "        \n",
    "    mean = np.zeros((m,m))+1\n",
    "    x,y,B_1 = matrix_scaling(mean,r,c)\n",
    "    x_mean, y_mean = normalise(x,y)\n",
    "\n",
    "    #Distribution of row and column scaling: Cutoff less than 1 (Necessary to apply stability of scaling factors result)\n",
    "\n",
    "    max_row_change = []\n",
    "    max_col_change = []\n",
    "\n",
    "    for i in range(0,n):\n",
    "        B = np.diag(x_mean)@sample[:,:,i]@np.diag(y_mean)\n",
    "        row_sum = B@r \n",
    "        col_sum = B.T@c\n",
    "    \n",
    "        row_sum_change = np.abs(row_sum-1)\n",
    "        col_sum_change = np.abs(col_sum-1)\n",
    "    \n",
    "        max_row_change = max_row_change + [np.max(row_sum_change)]\n",
    "        max_col_change = max_col_change + [np.max(col_sum_change)]\n",
    "\n",
    "    delta_vals = np.maximum(np.array(max_row_change), np.array(max_col_change))\n",
    "    delta = delta + [np.quantile(delta_vals, 0.8)]\n"
   ]
  },
  {
   "cell_type": "code",
   "execution_count": 12,
   "id": "9bc6c220",
   "metadata": {},
   "outputs": [
    {
     "data": {
      "text/plain": [
       "[0.6568460086131085,\n",
       " 0.4112005560399952,\n",
       " 0.3267284477431547,\n",
       " 0.2788357955747517,\n",
       " 0.25099870098652477]"
      ]
     },
     "execution_count": 12,
     "metadata": {},
     "output_type": "execute_result"
    }
   ],
   "source": [
    "delta\n",
    "\n",
    "## delta = [0.6568460086131085,0.4112005560399952,0.3267284477431547,0.2788357955747517,0.25099870098652477]"
   ]
  },
  {
   "cell_type": "code",
   "execution_count": 4,
   "id": "a8d5376b",
   "metadata": {},
   "outputs": [
    {
     "data": {
      "image/png": "[encoded data removed]",
      "text/plain": [
       "<Figure size 432x288 with 1 Axes>"
      ]
     },
     "metadata": {
      "needs_background": "light"
     },
     "output_type": "display_data"
    },
    {
     "data": {
      "image/png": "[encoded data removed]",
      "text/plain": [
       "<Figure size 432x288 with 1 Axes>"
      ]
     },
     "metadata": {
      "needs_background": "light"
     },
     "output_type": "display_data"
    },
    {
     "data": {
      "image/png": "[encoded data removed]",
      "text/plain": [
       "<Figure size 432x288 with 1 Axes>"
      ]
     },
     "metadata": {
      "needs_background": "light"
     },
     "output_type": "display_data"
    }
   ],
   "source": [
    "x_plt = [50,150,250,350,450]\n",
    "y_plt = [0.6568460086131085,0.4112005560399952,0.3267284477431547,0.2788357955747517,0.25099870098652477]\n",
    "\n",
    "plt.plot(x_plt, y_plt)\n",
    "plt.xlabel(\"Matrix Dimension: N\")\n",
    "plt.ylabel(\"0.8 Quantile value for delta\")\n",
    "plt.show()\n",
    "\n",
    "plt.plot(np.log(np.array(x_plt)), y_plt)\n",
    "plt.xlabel(\"Log of Matrix Dimension: N\")\n",
    "plt.ylabel(\"0.8 Quantile value for delta\")\n",
    "plt.show()\n",
    "\n",
    "plt.plot(np.sqrt(np.log(np.array(x_plt))/x_plt), y_plt)\n",
    "plt.xlabel(\"(sqrt(logN/N)\")\n",
    "plt.ylabel(\"0.8 Quantile value for delta\")\n",
    "plt.show()"
   ]
  },
  {
   "cell_type": "code",
   "execution_count": 90,
   "id": "69128296",
   "metadata": {},
   "outputs": [
    {
     "data": {
      "text/plain": [
       "\"\\nfig, axs = plt.subplots(1, 1,\\n                        figsize =(10, 7),\\n                        tight_layout = True)\\n \\naxs.hist(np.array(max_row_change), bins = 200)\\nplt.show()\\n\\n\\n\\nfig, axs = plt.subplots(1, 1,\\n                        figsize =(10, 7),\\n                        tight_layout = True)\\n \\naxs.hist(np.array(avg_row_change), bins = 200)\\nplt.show()\\n\\npyplot.hist(max_row_change, 100, alpha=0.5, label='Min_row')\\npyplot.hist(min_row_change, 100, alpha=0.5, label='Max_row')\\npyplot.legend(loc='upper right')\\npyplot.show()\\n\""
      ]
     },
     "execution_count": 90,
     "metadata": {},
     "output_type": "execute_result"
    }
   ],
   "source": [
    "#Junk code\n",
    "\n",
    "\"\"\"\n",
    "fig, axs = plt.subplots(1, 1,\n",
    "                        figsize =(10, 7),\n",
    "                        tight_layout = True)\n",
    " \n",
    "axs.hist(np.array(max_row_change), bins = 200)\n",
    "plt.show()\n",
    "\n",
    "\n",
    "\n",
    "fig, axs = plt.subplots(1, 1,\n",
    "                        figsize =(10, 7),\n",
    "                        tight_layout = True)\n",
    " \n",
    "axs.hist(np.array(avg_row_change), bins = 200)\n",
    "plt.show()\n",
    "\n",
    "pyplot.hist(max_row_change, 100, alpha=0.5, label='Min_row')\n",
    "pyplot.hist(min_row_change, 100, alpha=0.5, label='Max_row')\n",
    "pyplot.legend(loc='upper right')\n",
    "pyplot.show()\n",
    "\n",
    "#Plotting 2 histpgrams on the same plot\n",
    "plt.hist(max_row_change, 100, alpha=0.8, label='Min_row')\n",
    "plt.hist(min_row_change, 100, alpha=0.8, label='Max_row')\n",
    "plt.legend(loc='upper right')\n",
    "plt.show()\n",
    "\n",
    "#Histogram of norm diff of the scaled matrices\n",
    "\n",
    "fig, axs = plt.subplots(1, 1,\n",
    "                        figsize =(10, 7),\n",
    "                        tight_layout = True)\n",
    " \n",
    "axs.hist(np.array(norm), bins = 100)\n",
    "plt.show()\n",
    "\n",
    "[0.6568460086131085,\n",
    " 0.4112005560399952,\n",
    " 0.3267284477431547,\n",
    " 0.2788357955747517,\n",
    " 0.25099870098652477] = delta\n",
    "\"\"\""
   ]
  },
  {
   "cell_type": "code",
   "execution_count": null,
   "id": "bdcffedf",
   "metadata": {},
   "outputs": [],
   "source": []
  },
  {
   "cell_type": "code",
   "execution_count": null,
   "id": "c8f71484",
   "metadata": {},
   "outputs": [],
   "source": []
  }
 ],
 "metadata": {
  "kernelspec": {
   "display_name": "Python 3 (ipykernel)",
   "language": "python",
   "name": "python3"
  },
  "language_info": {
   "codemirror_mode": {
    "name": "ipython",
    "version": 3
   },
   "file_extension": ".py",
   "mimetype": "text/x-python",
   "name": "python",
   "nbconvert_exporter": "python",
   "pygments_lexer": "ipython3",
   "version": "3.9.7"
  }
 },
 "nbformat": 4,
 "nbformat_minor": 5
}
