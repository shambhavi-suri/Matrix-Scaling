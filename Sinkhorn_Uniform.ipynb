{
  "nbformat": 4,
  "nbformat_minor": 0,
  "metadata": {
    "colab": {
      "name": "Sinkhorn_Uniform.ipynb",
      "provenance": [],
      "collapsed_sections": []
    },
    "kernelspec": {
      "name": "python3",
      "display_name": "Python 3"
    },
    "language_info": {
      "name": "python"
    }
  },
  "cells": [
    {
      "cell_type": "code",
      "execution_count": 21,
      "metadata": {
        "id": "3CxB3f4Jz6cV"
      },
      "outputs": [],
      "source": [
        "import numpy as np\n",
        "from numpy import linalg\n",
        "import random \n",
        "import matplotlib.pyplot as plt\n",
        "\n",
        "random.seed(10)"
      ]
    },
    {
      "cell_type": "code",
      "source": [
        "## Defining the function\n",
        "def matrix_scaling(A,r,c, tolerance = 10**(-8)):\n",
        "    (m,n) = np.shape(A)\n",
        "    one_m = np.zeros(m) + 1\n",
        "    one_n = np.zeros(n) + 1\n",
        "    row_sum = A@one_n\n",
        "    column_sum = A.T@one_m\n",
        "    \n",
        "    x_scale = one_m\n",
        "    y_scale = one_n\n",
        "    k = 1\n",
        "    \n",
        "    while max(np.linalg.norm(r - row_sum, np.inf), np.linalg.norm(c - column_sum, np.inf)) > tolerance:\n",
        "        k = k+1\n",
        "        if k % 2 == 0:\n",
        "            x = r/row_sum\n",
        "            x_scale = x_scale*x\n",
        "            A = np.diag(x)@A\n",
        "        else:\n",
        "            y = c/column_sum\n",
        "            y_scale = y_scale*y\n",
        "            A = A@np.diag(y)\n",
        "                 \n",
        "        #print(max(np.linalg.norm(r - row_sum, np.inf), np.linalg.norm(c - column_sum, np.inf)))\n",
        "        row_sum = A@one_n\n",
        "        column_sum = A.T@one_m\n",
        "    \n",
        "    return x_scale, y_scale, A\n",
        "\n",
        "def normalise(x,y):\n",
        "    n_x = np.linalg.norm(x,1)\n",
        "    n_y = np.linalg.norm(y,1)\n",
        "    alpha = np.sqrt(n_x/n_y)\n",
        "    \n",
        "    return x/alpha, y*alpha\n",
        "\n",
        "def dist(x,y,x_avg,y_avg):\n",
        "    x_max = np.max(np.abs(x/x_avg - 1))\n",
        "    y_max = np.max(np.abs(y/y_avg - 1))\n",
        "    return max(x_max, y_max)\n"
      ],
      "metadata": {
        "id": "7sbBdfZl0cBf"
      },
      "execution_count": 2,
      "outputs": []
    },
    {
      "cell_type": "code",
      "source": [
        "x = np.array([1,2,3,4])\n",
        "y = np.array([6,7])\n",
        "x_avg = np.array([1,1,1,1])\n",
        "y_avg = np.array([6,5])\n",
        "\n",
        "x_max = np.max(np.abs(x/x_avg - 1))\n",
        "y_max = np.max(np.abs(y/y_avg - 1))\n",
        "max(x_max, y_max)\n",
        "\n",
        "dist(np.array([1,2,3,4]),np.array([6,7]),np.array([1,1,1,1]),np.array([6,5]))"
      ],
      "metadata": {
        "colab": {
          "base_uri": "https://localhost:8080/"
        },
        "id": "lYlklXd52Yf3",
        "outputId": "9c778e58-c8f4-463b-af7a-e76fc7837414"
      },
      "execution_count": 3,
      "outputs": [
        {
          "output_type": "execute_result",
          "data": {
            "text/plain": [
              "3.0"
            ]
          },
          "metadata": {},
          "execution_count": 3
        }
      ]
    },
    {
      "cell_type": "code",
      "source": [
        "#Sampling from chi squared distribution\n",
        "\n",
        "m = 50 #size of matrix\n",
        "n = 1000 # #-of samples\n",
        "\n",
        "sample = np.random.uniform(low = 1.0, high=2.0, size =(m,m,n))\n",
        "r = np.zeros(m)+1\n",
        "c = r\n",
        "\n",
        "#Storing Scaling Factors:\n",
        "\n",
        "x_factors = np.zeros((n,m))\n",
        "y_factors = np.zeros((n,m))\n",
        "matrices = np.zeros((m,m,n))\n",
        "\n",
        "\n",
        "for i in range(0,1000):\n",
        "    A = sample[:,:,i]\n",
        "    x, y, B = matrix_scaling(sample[:,:,i], r , c)\n",
        "    x_factors[i,:] = x\n",
        "    y_factors[i: ] = y\n",
        "    matrices[:,:,i] = B   \n",
        "\n",
        "min_val = []\n",
        "for i in range(0,1000):\n",
        "    min_val = min_val + [np.min(matrices[:,:,i])]\n",
        "    \n",
        "norm = []\n",
        "mean = np.zeros((50,50))+1\n",
        "mean_scaled = 1/m*(np.zeros((50,50))+1)\n",
        "for i in range(0,1000):\n",
        "    norm_1 = [np.linalg.norm(matrices[:,:,i] - mean, 2)]\n",
        "    norm = norm + norm_1\n",
        "\n",
        "min_val_2 = []\n",
        "for i in range(0,1000):\n",
        "    min_val_2 = min_val_2 + [np.min(matrices[:,:,i]/sample[:,:,i])]\n",
        "    \n",
        "max_val_2 = []\n",
        "for i in range(0,1000):\n",
        "    max_val_2 = min_val_2 + [np.max(matrices[:,:,i]/sample[:,:,i])]"
      ],
      "metadata": {
        "id": "-dp5cH_42cp7"
      },
      "execution_count": 4,
      "outputs": []
    },
    {
      "cell_type": "code",
      "source": [
        "#Approximate scaling of matrix by scaling factors of the mean\n",
        "\n",
        "x,y,B = matrix_scaling(mean,r,c)\n",
        "x_mean, y_mean = normalise(x,y)\n",
        "\n",
        "#Distribution of row and column scaling: Cutoff less than 1 (Necessary to apply stability of scaling factors result)\n",
        "\n",
        "max_row_change = []\n",
        "max_col_change = []\n",
        "\n",
        "avg_row_change = []\n",
        "avg_col_change = []\n",
        "\n",
        "min_row_change = []\n",
        "min_col_change = []\n",
        "\n",
        "for i in range(0,n):\n",
        "    B = np.diag(x_mean)@sample[:,:,i]@np.diag(y_mean)\n",
        "    row_sum = B@r \n",
        "    col_sum = B.T@c\n",
        "    \n",
        "    row_sum_change = np.abs(row_sum-1)\n",
        "    col_sum_change = np.abs(col_sum-1)\n",
        "    \n",
        "    max_row_change = max_row_change + [np.max(row_sum_change)]\n",
        "    max_col_change = max_col_change + [np.max(col_sum_change)]\n",
        "    \n",
        "    avg_row_change = avg_row_change + [np.mean(row_sum_change)]\n",
        "    avg_col_change = avg_col_change + [np.mean(col_sum_change)]\n",
        "\n",
        "    min_row_change = min_row_change + [np.min(row_sum_change)]\n",
        "    min_col_change = min_col_change + [np.min(col_sum_change)]\n",
        "\n",
        "#Histograms of approximate scaling:\n",
        "\n",
        "fig, ax = plt.subplots(2, 3, figsize =(10, 7),sharex='col', sharey='row')\n",
        "ax[0,0].hist(np.array(avg_row_change), bins = 200)\n",
        "ax[1,0].hist(np.array(avg_col_change), bins = 200)\n",
        "\n",
        "ax[0,0].set(xlabel = \"Average Row change\", ylabel= \"Frequency\") \n",
        "ax[1,0].set(xlabel = \"Average Col change\", ylabel= \"Frequency\") \n",
        "\n",
        "ax[0,1].hist(np.array(max_row_change), bins = 200)\n",
        "ax[1,1].hist(np.array(max_col_change), bins = 200)\n",
        "\n",
        "ax[0,1].set(xlabel = \"Max Row change\", ylabel= \"Frequency\") \n",
        "ax[1,1].set(xlabel = \"Max Col change\", ylabel= \"Frequency\")\n",
        "\n",
        "ax[0,2].hist(np.array(min_row_change), bins = 200)\n",
        "ax[1,2].hist(np.array(min_col_change), bins = 200)\n",
        "\n",
        "ax[0,2].set(xlabel = \"Min Row change\", ylabel= \"Frequency\") \n",
        "ax[1,2].set(xlabel = \"Min Col change\", ylabel= \"Frequency\")\n",
        "\n",
        "plt.show()\n"
      ],
      "metadata": {
        "colab": {
          "base_uri": "https://localhost:8080/",
          "height": 442
        },
        "id": "V6njkHtZ2t-h",
        "outputId": "74509936-6a99-4aae-94e2-7ca84697eb02"
      },
      "execution_count": 5,
      "outputs": [
        {
          "output_type": "display_data",
          "data": {
            "text/plain": [
              "<Figure size 720x504 with 6 Axes>"
            ],
            "image/png": "[encoded data removed]"
          },
          "metadata": {
            "needs_background": "light"
          }
        }
      ]
    },
    {
      "cell_type": "code",
      "source": [
        "#Sampling from chi squared distribution\n",
        "\n",
        "m = 100 #size of matrix\n",
        "n = 1000 # #-of samples\n",
        "\n",
        "sample = np.random.uniform(low = 1.0, high=2.0, size =(m,m,n))\n",
        "r = np.zeros(m)+1\n",
        "c = r\n",
        "\n",
        "#Storing Scaling Factors:\n",
        "\n",
        "x_factors = np.zeros((n,m))\n",
        "y_factors = np.zeros((n,m))\n",
        "matrices = np.zeros((m,m,n))\n",
        "\n",
        "\n",
        "for i in range(0,n):\n",
        "    A = sample[:,:,i]\n",
        "    x, y, B = matrix_scaling(sample[:,:,i], r , c)\n",
        "    x_factors[i,:] = x\n",
        "    y_factors[i: ] = y\n",
        "    matrices[:,:,i] = B   \n",
        "\n",
        "min_val = []\n",
        "for i in range(0,n):\n",
        "    min_val = min_val + [np.min(matrices[:,:,i])]\n",
        "    \n",
        "norm = []\n",
        "mean = np.zeros((m,m))+1\n",
        "mean_scaled = 1/m*(np.zeros((m,m))+1)\n",
        "for i in range(0,n):\n",
        "    norm_1 = [np.linalg.norm(matrices[:,:,i] - mean, 2)]\n",
        "    norm = norm + norm_1\n",
        "\n",
        "min_val_2 = []\n",
        "for i in range(0,n):\n",
        "    min_val_2 = min_val_2 + [np.min(matrices[:,:,i]/sample[:,:,i])]\n",
        "    \n",
        "max_val_2 = []\n",
        "for i in range(0,n):\n",
        "    max_val_2 = min_val_2 + [np.max(matrices[:,:,i]/sample[:,:,i])]"
      ],
      "metadata": {
        "id": "Hc-q5pbg3ueS"
      },
      "execution_count": 6,
      "outputs": []
    },
    {
      "cell_type": "code",
      "source": [
        "#Approximate scaling of matrix by scaling factors of the mean\n",
        "\n",
        "x,y,B = matrix_scaling(mean,r,c)\n",
        "x_mean, y_mean = normalise(x,y)\n",
        "\n",
        "#Distribution of row and column scaling: Cutoff less than 1 (Necessary to apply stability of scaling factors result)\n",
        "\n",
        "max_row_change = []\n",
        "max_col_change = []\n",
        "\n",
        "avg_row_change = []\n",
        "avg_col_change = []\n",
        "\n",
        "min_row_change = []\n",
        "min_col_change = []\n",
        "\n",
        "for i in range(0,n):\n",
        "    B = np.diag(x_mean)@sample[:,:,i]@np.diag(y_mean)\n",
        "    row_sum = B@r \n",
        "    col_sum = B.T@c\n",
        "    \n",
        "    row_sum_change = np.abs(row_sum-1)\n",
        "    col_sum_change = np.abs(col_sum-1)\n",
        "    \n",
        "    max_row_change = max_row_change + [np.max(row_sum_change)]\n",
        "    max_col_change = max_col_change + [np.max(col_sum_change)]\n",
        "    \n",
        "    avg_row_change = avg_row_change + [np.mean(row_sum_change)]\n",
        "    avg_col_change = avg_col_change + [np.mean(col_sum_change)]\n",
        "\n",
        "    min_row_change = min_row_change + [np.min(row_sum_change)]\n",
        "    min_col_change = min_col_change + [np.min(col_sum_change)]\n",
        "\n",
        "#Histograms of approximate scaling:\n",
        "\n",
        "fig, ax = plt.subplots(2, 3, figsize =(10, 7),sharex='col', sharey='row')\n",
        "ax[0,0].hist(np.array(avg_row_change), bins = 200)\n",
        "ax[1,0].hist(np.array(avg_col_change), bins = 200)\n",
        "\n",
        "ax[0,0].set(xlabel = \"Average Row change\", ylabel= \"Frequency\") \n",
        "ax[1,0].set(xlabel = \"Average Col change\", ylabel= \"Frequency\") \n",
        "\n",
        "ax[0,1].hist(np.array(max_row_change), bins = 200)\n",
        "ax[1,1].hist(np.array(max_col_change), bins = 200)\n",
        "\n",
        "ax[0,1].set(xlabel = \"Max Row change\", ylabel= \"Frequency\") \n",
        "ax[1,1].set(xlabel = \"Max Col change\", ylabel= \"Frequency\")\n",
        "\n",
        "ax[0,2].hist(np.array(min_row_change), bins = 200)\n",
        "ax[1,2].hist(np.array(min_col_change), bins = 200)\n",
        "\n",
        "ax[0,2].set(xlabel = \"Min Row change\", ylabel= \"Frequency\") \n",
        "ax[1,2].set(xlabel = \"Min Col change\", ylabel= \"Frequency\")\n",
        "\n",
        "plt.show()"
      ],
      "metadata": {
        "colab": {
          "base_uri": "https://localhost:8080/",
          "height": 442
        },
        "id": "i7X4_lMG24Lm",
        "outputId": "6250aa2f-8452-4f88-ba8f-7b35414bf73e"
      },
      "execution_count": 7,
      "outputs": [
        {
          "output_type": "display_data",
          "data": {
            "text/plain": [
              "<Figure size 720x504 with 6 Axes>"
            ],
            "image/png": "[encoded data removed]"
          },
          "metadata": {
            "needs_background": "light"
          }
        }
      ]
    },
    {
      "cell_type": "code",
      "source": [
        "delta = []\n",
        "for j in range(20,220,20):\n",
        "    print(j)\n",
        "    m = j #size of matrix\n",
        "    n = 1000 # #-of samples\n",
        "\n",
        "    sample = np.random.uniform(low = 1.0, high=2.0, size =(m,m,n))\n",
        "    r = np.zeros(m)+1\n",
        "    c = r\n",
        "        \n",
        "    mean = np.zeros((m,m))+1\n",
        "    x,y,B_1 = matrix_scaling(mean,r,c)\n",
        "    x_mean, y_mean = normalise(x,y)\n",
        "\n",
        "    #Distribution of row and column scaling: Cutoff less than 1 (Necessary to apply stability of scaling factors result)\n",
        "\n",
        "    max_row_change = []\n",
        "    max_col_change = []\n",
        "\n",
        "    for i in range(0,n):\n",
        "        B = np.diag(x_mean)@sample[:,:,i]@np.diag(y_mean)\n",
        "        row_sum = B@r \n",
        "        col_sum = B.T@c\n",
        "    \n",
        "        row_sum_change = np.abs(row_sum-1)\n",
        "        col_sum_change = np.abs(col_sum-1)\n",
        "    \n",
        "        max_row_change = max_row_change + [np.max(row_sum_change)]\n",
        "        max_col_change = max_col_change + [np.max(col_sum_change)]\n",
        "\n",
        "    delta_vals = np.maximum(np.array(max_row_change), np.array(max_col_change))\n",
        "    delta = delta + [np.quantile(delta_vals, 0.8)]\n"
      ],
      "metadata": {
        "colab": {
          "base_uri": "https://localhost:8080/"
        },
        "id": "9TOMxxTi3BgI",
        "outputId": "1b2e072a-7d8c-4103-f588-5a80b21294e7"
      },
      "execution_count": 17,
      "outputs": [
        {
          "output_type": "stream",
          "name": "stdout",
          "text": [
            "20\n",
            "40\n",
            "60\n",
            "80\n",
            "100\n",
            "120\n",
            "140\n",
            "160\n",
            "180\n",
            "200\n"
          ]
        }
      ]
    },
    {
      "cell_type": "code",
      "source": [
        "for i in range(0,np.shape(np.arange(20,220,20))[0]):\n",
        "  print(i)"
      ],
      "metadata": {
        "colab": {
          "base_uri": "https://localhost:8080/"
        },
        "id": "Xq-173fD9eIr",
        "outputId": "269a889e-e948-47c6-b7db-46858b0e395c"
      },
      "execution_count": 24,
      "outputs": [
        {
          "output_type": "stream",
          "name": "stdout",
          "text": [
            "0\n",
            "1\n",
            "2\n",
            "3\n",
            "4\n",
            "5\n",
            "6\n",
            "7\n",
            "8\n",
            "9\n"
          ]
        }
      ]
    },
    {
      "cell_type": "code",
      "source": [
        "delta"
      ],
      "metadata": {
        "colab": {
          "base_uri": "https://localhost:8080/"
        },
        "id": "ymplQO8A3ML4",
        "outputId": "0f7d38f2-ff39-4826-90ac-ba229cc7e0fd"
      },
      "execution_count": 18,
      "outputs": [
        {
          "output_type": "execute_result",
          "data": {
            "text/plain": [
              "[0.6611342379765353,\n",
              " 0.6270368670907556,\n",
              " 0.6073011717239076,\n",
              " 0.5958989367813526,\n",
              " 0.5878440047348871,\n",
              " 0.5824440976966365,\n",
              " 0.5764409972943061,\n",
              " 0.573505456185736,\n",
              " 0.5696667933233616,\n",
              " 0.5662585036871296]"
            ]
          },
          "metadata": {},
          "execution_count": 18
        }
      ]
    },
    {
      "cell_type": "code",
      "source": [
        "x_plt = np.arange(20,220,20)\n",
        "y_plt = delta\n",
        "\n",
        "plt.plot(x_plt, y_plt)\n",
        "plt.xlabel(\"Matrix Dimension: N\")\n",
        "plt.ylabel(\"0.8 Quantile value for delta\")\n",
        "plt.show()\n",
        "\n",
        "plt.plot(np.log(np.array(x_plt)), y_plt)\n",
        "plt.xlabel(\"Log of Matrix Dimension: N\")\n",
        "plt.ylabel(\"0.8 Quantile value for delta\")\n",
        "plt.show()\n",
        "\n",
        "plt.plot(np.sqrt(np.log(np.array(x_plt))/x_plt), y_plt)\n",
        "plt.xlabel(\"(sqrt(logN/N)\")\n",
        "plt.ylabel(\"0.8 Quantile value for delta\")\n",
        "plt.show()"
      ],
      "metadata": {
        "colab": {
          "base_uri": "https://localhost:8080/",
          "height": 803
        },
        "id": "9uTZ4dhq6JtH",
        "outputId": "8b328c32-36d0-4495-cd6a-6815832aabdd"
      },
      "execution_count": 19,
      "outputs": [
        {
          "output_type": "display_data",
          "data": {
            "text/plain": [
              "<Figure size 432x288 with 1 Axes>"
            ],
            "image/png": "[encoded data removed]"
          },
          "metadata": {
            "needs_background": "light"
          }
        },
        {
          "output_type": "display_data",
          "data": {
            "text/plain": [
              "<Figure size 432x288 with 1 Axes>"
            ],
            "image/png": "[encoded data removed]"
          },
          "metadata": {
            "needs_background": "light"
          }
        },
        {
          "output_type": "display_data",
          "data": {
            "text/plain": [
              "<Figure size 432x288 with 1 Axes>"
            ],
            "image/png": "[encoded data removed]"
          },
          "metadata": {
            "needs_background": "light"
          }
        }
      ]
    },
    {
      "cell_type": "code",
      "source": [
        "####Dependence on n of Bounds on Scaling Factors: Fixing Probability ######\n",
        "\n",
        "## Bounds at 0.8 probability level: We already have estimates for delta\n",
        "\n",
        "n_val = np.arange(20,220,20)\n",
        "delta_val = delta\n",
        "\n",
        "bound = []\n",
        "\n",
        "for j in range(0,np.shape(n_val)[0]):\n",
        "    print(j)\n",
        "    m = n_val[j] #size of matrix\n",
        "    n = 1000 # #-of samples\n",
        "\n",
        "    sample = np.random.uniform(low = 1.0, high=2.0, size =(m,m,n))\n",
        "    r = np.zeros(m)+1\n",
        "    c = r  \n",
        "        \n",
        "    mean = np.zeros((m,m))+1\n",
        "    x,y,B_1 = matrix_scaling(mean,r,c)\n",
        "    x_mean, y_mean = normalise(x,y)\n",
        "    maxi = 0\n",
        "    \n",
        "    x_factors = np.zeros((n,m))\n",
        "    y_factors = np.zeros((n,m))\n",
        "    matrices = np.zeros((m,m,n))\n",
        "    for i in range(0,n):\n",
        "        A = sample[:,:,i]\n",
        "        x, y, B = matrix_scaling(sample[:,:,i], r , c)\n",
        "        x_factors[i,:] = x\n",
        "        y_factors[i: ] = y\n",
        "        x,y = normalise(x,y)\n",
        "        matrices[:,:,i] = B   \n",
        "        \n",
        "        B = np.diag(x_mean)@sample[:,:,i]@np.diag(y_mean)\n",
        "        row_sum = B@r \n",
        "        col_sum = B.T@c\n",
        "        row_sum_change = np.abs(row_sum-1)\n",
        "        col_sum_change = np.abs(col_sum-1)\n",
        "        \n",
        "        \n",
        "        if max(np.max(row_sum_change), np.max(col_sum_change))<= delta_val[j]:\n",
        "            maxi = max(maxi, dist(x,y,x_mean,y_mean))\n",
        "\n",
        "    bound = bound + [maxi]\n",
        "\n",
        "bound"
      ],
      "metadata": {
        "colab": {
          "base_uri": "https://localhost:8080/"
        },
        "id": "l5SKU-m33FQx",
        "outputId": "7fdf7820-1e61-43d5-eff8-36a031221289"
      },
      "execution_count": 25,
      "outputs": [
        {
          "output_type": "stream",
          "name": "stdout",
          "text": [
            "0\n",
            "1\n",
            "2\n",
            "3\n",
            "4\n",
            "5\n",
            "6\n",
            "7\n",
            "8\n",
            "9\n"
          ]
        },
        {
          "output_type": "execute_result",
          "data": {
            "text/plain": [
              "[0.2691914976452475,\n",
              " 0.24987359993592528,\n",
              " 0.23985506188352101,\n",
              " 0.2339403024670208,\n",
              " 0.22964927237058064,\n",
              " 0.2267336034149685,\n",
              " 0.224277675864044,\n",
              " 0.22219388292347564,\n",
              " 0.22088134432078166,\n",
              " 0.21860815316609594]"
            ]
          },
          "metadata": {},
          "execution_count": 25
        }
      ]
    },
    {
      "cell_type": "code",
      "source": [
        "x_plt = np.arange(20,220,20)\n",
        "y_plt = bound\n",
        "\n",
        "plt.plot(x_plt, y_plt)\n",
        "plt.xlabel(\"Matrix Dimension: N\")\n",
        "plt.ylabel(\"Bounds\")\n",
        "plt.show()\n",
        "\n",
        "plt.plot(np.log(np.array(x_plt)), y_plt)\n",
        "plt.xlabel(\"Log of Matrix Dimension: N\")\n",
        "plt.ylabel(\"Bounds\")\n",
        "plt.show()\n",
        "\n",
        "plt.plot(np.sqrt(np.log(np.array(x_plt))/x_plt), y_plt)\n",
        "plt.xlabel(\"(sqrt(logN/N)\")\n",
        "plt.ylabel(\"Bounds\")\n",
        "plt.show()"
      ],
      "metadata": {
        "colab": {
          "base_uri": "https://localhost:8080/",
          "height": 803
        },
        "id": "aNHrMAR792zG",
        "outputId": "11e90467-1629-4826-9862-97e6337eaeeb"
      },
      "execution_count": 26,
      "outputs": [
        {
          "output_type": "display_data",
          "data": {
            "text/plain": [
              "<Figure size 432x288 with 1 Axes>"
            ],
            "image/png": "[encoded data removed]"
          },
          "metadata": {
            "needs_background": "light"
          }
        },
        {
          "output_type": "display_data",
          "data": {
            "text/plain": [
              "<Figure size 432x288 with 1 Axes>"
            ],
            "image/png": "[encoded data removed]"
          },
          "metadata": {
            "needs_background": "light"
          }
        },
        {
          "output_type": "display_data",
          "data": {
            "text/plain": [
              "<Figure size 432x288 with 1 Axes>"
            ],
            "image/png": "[encoded data removed]"
          },
          "metadata": {
            "needs_background": "light"
          }
        }
      ]
    },
    {
      "cell_type": "code",
      "source": [
        "########### Fixing Delta: Bounds and the associated Probability ##########\n",
        "\n",
        "delta_val = 0.60\n",
        "\n",
        "n_val = np.arange(20,220,20)\n",
        "\n",
        "prob = []\n",
        "bound = []\n",
        "\n",
        "for j in range(0,np.shape(n_val)[0]):\n",
        "    print(j)\n",
        "    m = n_val[j] #size of matrix\n",
        "    n = 1000 # #-of samples\n",
        "\n",
        "    sample = np.random.uniform(low = 1.0, high=2.0, size =(m,m,n))\n",
        "    r = np.zeros(m)+1\n",
        "    c = r  \n",
        "        \n",
        "    mean = np.zeros((m,m))+1\n",
        "    x,y,B_1 = matrix_scaling(mean,r,c)\n",
        "    x_mean, y_mean = normalise(x,y)\n",
        "    maxi = 0\n",
        "    p = 0\n",
        "    \n",
        "    x_factors = np.zeros((n,m))\n",
        "    y_factors = np.zeros((n,m))\n",
        "    matrices = np.zeros((m,m,n))\n",
        "    for i in range(0,n):\n",
        "        A = sample[:,:,i]\n",
        "        x, y, B = matrix_scaling(sample[:,:,i], r , c)\n",
        "        x_factors[i,:] = x\n",
        "        y_factors[i: ] = y\n",
        "        x,y = normalise(x,y)\n",
        "        matrices[:,:,i] = B   \n",
        "        \n",
        "        B = np.diag(x_mean)@sample[:,:,i]@np.diag(y_mean)\n",
        "        row_sum = B@r \n",
        "        col_sum = B.T@c\n",
        "        row_sum_change = np.abs(row_sum-1)\n",
        "        col_sum_change = np.abs(col_sum-1)\n",
        "        \n",
        "        \n",
        "        if max(np.max(row_sum_change), np.max(col_sum_change))<= delta_val: #Fixed value\n",
        "            maxi = max(maxi, dist(x,y,x_mean,y_mean))\n",
        "            p = p+1\n",
        "\n",
        "    bound = bound + [maxi]\n",
        "    prob = prob + [p]\n",
        "bound"
      ],
      "metadata": {
        "colab": {
          "base_uri": "https://localhost:8080/"
        },
        "id": "G4p2XuMKAe64",
        "outputId": "b281c9c5-1a7e-457c-fc34-315ac5287704"
      },
      "execution_count": 29,
      "outputs": [
        {
          "output_type": "stream",
          "name": "stdout",
          "text": [
            "0\n",
            "1\n",
            "2\n",
            "3\n",
            "4\n",
            "5\n",
            "6\n",
            "7\n",
            "8\n",
            "9\n"
          ]
        },
        {
          "output_type": "execute_result",
          "data": {
            "text/plain": [
              "[0.24225762006260887,\n",
              " 0.23894781828990708,\n",
              " 0.23649644423438265,\n",
              " 0.23632679591583516,\n",
              " 0.23499892603153616,\n",
              " 0.2358546093421805,\n",
              " 0.23395082554164814,\n",
              " 0.23449156812480698,\n",
              " 0.23429442157802538,\n",
              " 0.23182936743574378]"
            ]
          },
          "metadata": {},
          "execution_count": 29
        }
      ]
    },
    {
      "cell_type": "code",
      "source": [
        "#Theoretical Bound:\n",
        "\n",
        "print((1+2**4.5)*0.60) "
      ],
      "metadata": {
        "colab": {
          "base_uri": "https://localhost:8080/"
        },
        "id": "ZPuteurlSpK4",
        "outputId": "d74f2101-b04a-41af-dea7-c1fe459ef489"
      },
      "execution_count": 9,
      "outputs": [
        {
          "output_type": "stream",
          "name": "stdout",
          "text": [
            "14.176450198781714\n"
          ]
        }
      ]
    },
    {
      "cell_type": "code",
      "source": [
        "x_plt = np.arange(20,220,20)\n",
        "y_plt = bound\n",
        "\n",
        "plt.plot(x_plt, y_plt)\n",
        "plt.xlabel(\"Matrix Dimension: N\")\n",
        "plt.ylabel(\"Bounds\")\n",
        "plt.show()\n",
        "\n",
        "plt.plot(np.log(np.array(x_plt)), y_plt)\n",
        "plt.xlabel(\"Log of Matrix Dimension: N\")\n",
        "plt.ylabel(\"Bounds\")\n",
        "plt.show()\n",
        "\n",
        "plt.plot(np.sqrt(np.log(np.array(x_plt))/x_plt), y_plt)\n",
        "plt.xlabel(\"(sqrt(logN/N)\")\n",
        "plt.ylabel(\"Bounds\")\n",
        "plt.show()"
      ],
      "metadata": {
        "colab": {
          "base_uri": "https://localhost:8080/",
          "height": 803
        },
        "id": "f6rQNVMLEqN2",
        "outputId": "1377469f-d1a5-4830-b2c1-4ff7c2c6038b"
      },
      "execution_count": 28,
      "outputs": [
        {
          "output_type": "display_data",
          "data": {
            "text/plain": [
              "<Figure size 432x288 with 1 Axes>"
            ],
            "image/png": "[encoded data removed]"
          },
          "metadata": {
            "needs_background": "light"
          }
        },
        {
          "output_type": "display_data",
          "data": {
            "text/plain": [
              "<Figure size 432x288 with 1 Axes>"
            ],
            "image/png": "[encoded data removed]"
          },
          "metadata": {
            "needs_background": "light"
          }
        },
        {
          "output_type": "display_data",
          "data": {
            "text/plain": [
              "<Figure size 432x288 with 1 Axes>"
            ],
            "image/png": "[encoded data removed]"
          },
          "metadata": {
            "needs_background": "light"
          }
        }
      ]
    },
    {
      "cell_type": "code",
      "source": [
        "x_plt = np.arange(20,220,20)\n",
        "y_plt = np.array(prob)/n\n",
        "\n",
        "plt.plot(x_plt, y_plt)\n",
        "plt.xlabel(\"Matrix Dimension: N\")\n",
        "plt.ylabel(\"Probability\")\n",
        "plt.show()\n"
      ],
      "metadata": {
        "colab": {
          "base_uri": "https://localhost:8080/",
          "height": 279
        },
        "id": "Qmk63JShE0Xj",
        "outputId": "23cfac79-4bc2-4540-caf9-735ac15059b2"
      },
      "execution_count": 30,
      "outputs": [
        {
          "output_type": "display_data",
          "data": {
            "text/plain": [
              "<Figure size 432x288 with 1 Axes>"
            ],
            "image/png": "[encoded data removed]"
          },
          "metadata": {
            "needs_background": "light"
          }
        }
      ]
    },
    {
      "cell_type": "code",
      "source": [
        "np.array(prob)/1000"
      ],
      "metadata": {
        "colab": {
          "base_uri": "https://localhost:8080/"
        },
        "id": "blBBWorkL0Hs",
        "outputId": "cf29fe57-bc4f-4eb9-b6b6-0a529bb0e0bd"
      },
      "execution_count": 33,
      "outputs": [
        {
          "output_type": "execute_result",
          "data": {
            "text/plain": [
              "array([0.095, 0.317, 0.661, 0.868, 0.939, 0.988, 0.991, 1.   , 1.   ,\n",
              "       1.   ])"
            ]
          },
          "metadata": {},
          "execution_count": 33
        }
      ]
    },
    {
      "cell_type": "code",
      "source": [
        "########## Analysing dependance on a #####################################\n",
        "\n",
        "a_val = [1.5,1.3,1.1,0.9,0.7,0.5,0.3,0.1]\n",
        "delta_val = 0.6\n",
        "\n",
        "bound = []\n",
        "prob = []\n",
        "\n",
        "for j in range(0,np.shape(a_val)[0]):\n",
        "    print(j)\n",
        "    m = 50 #size of matrix\n",
        "    n = 1000 # #-of samples\n",
        "\n",
        "    sample = np.random.uniform(low = a_val[j], high=2.0, size =(m,m,n))\n",
        "    r = np.zeros(m)+1\n",
        "    c = r  \n",
        "        \n",
        "    mean = np.zeros((m,m))+1\n",
        "    x,y,B_1 = matrix_scaling(mean,r,c)\n",
        "    x_mean, y_mean = normalise(x,y)\n",
        "    maxi = 0\n",
        "    p = 0\n",
        "    \n",
        "    x_factors = np.zeros((n,m))\n",
        "    y_factors = np.zeros((n,m))\n",
        "    matrices = np.zeros((m,m,n))\n",
        "    for i in range(0,n):\n",
        "        A = sample[:,:,i]\n",
        "        x, y, B = matrix_scaling(sample[:,:,i], r , c)\n",
        "        x_factors[i,:] = x\n",
        "        y_factors[i: ] = y\n",
        "        x,y = normalise(x,y)\n",
        "        matrices[:,:,i] = B   \n",
        "        \n",
        "        B = np.diag(x_mean)@sample[:,:,i]@np.diag(y_mean)\n",
        "        row_sum = B@r \n",
        "        col_sum = B.T@c\n",
        "        row_sum_change = np.abs(row_sum-1)\n",
        "        col_sum_change = np.abs(col_sum-1)\n",
        "        \n",
        "        \n",
        "        if max(np.max(row_sum_change), np.max(col_sum_change))<= delta_val:\n",
        "            maxi = max(maxi, dist(x,y,x_mean,y_mean))\n",
        "            p = p+1\n",
        "\n",
        "    bound = bound + [maxi]\n",
        "    prob = prob + [p]\n",
        "\n",
        "bound"
      ],
      "metadata": {
        "colab": {
          "base_uri": "https://localhost:8080/"
        },
        "id": "AQIBgR7aMtwj",
        "outputId": "8f738965-8ab8-4c48-d6f5-cc3f8fed4a43"
      },
      "execution_count": 12,
      "outputs": [
        {
          "output_type": "stream",
          "name": "stdout",
          "text": [
            "0\n",
            "1\n",
            "2\n",
            "3\n",
            "4\n",
            "5\n",
            "6\n",
            "7\n"
          ]
        },
        {
          "output_type": "execute_result",
          "data": {
            "text/plain": [
              "[0,\n",
              " 0,\n",
              " 0,\n",
              " 0.24888283530497468,\n",
              " 0.26414275353758676,\n",
              " 0.2524396200144168,\n",
              " 0.2784153607572588,\n",
              " 0.40999849430407265]"
            ]
          },
          "metadata": {},
          "execution_count": 12
        }
      ]
    },
    {
      "cell_type": "code",
      "source": [
        "prob"
      ],
      "metadata": {
        "colab": {
          "base_uri": "https://localhost:8080/"
        },
        "id": "zVQo9o-rVKOi",
        "outputId": "56213ae0-4b1e-491d-b801-4093edc27ab1"
      },
      "execution_count": 13,
      "outputs": [
        {
          "output_type": "execute_result",
          "data": {
            "text/plain": [
              "[0, 0, 0, 962, 1000, 1000, 1000, 1000]"
            ]
          },
          "metadata": {},
          "execution_count": 13
        }
      ]
    },
    {
      "cell_type": "code",
      "source": [
        "##### Distribution of delta as a function of a ###\n",
        "\n",
        "prob = []\n",
        "delta_val = 0.6\n",
        "\n",
        "a_val = [1.5,1.4,1.3,1.2,1.1,1.0,0.9,0.8,0.7,0.6,0.5,0.4,0.3,0.2,0.1]\n",
        "\n",
        "bound = []\n",
        "prob = []\n",
        "\n",
        "for j in range(0,np.shape(a_val)[0]):\n",
        "    #print(j)\n",
        "    m = 50 #size of matrix\n",
        "    n = 1000 # #-of samples\n",
        "\n",
        "    sample = np.random.uniform(low = a_val[j], high=2.0, size =(m,m,n))\n",
        "    r = np.zeros(m)+1\n",
        "    c = r\n",
        "        \n",
        "    mean = np.zeros((m,m))+1\n",
        "    x,y,B_1 = matrix_scaling(mean,r,c)\n",
        "    x_mean, y_mean = normalise(x,y)\n",
        "\n",
        "    #Distribution of row and column scaling: Cutoff less than 1 (Necessary to apply stability of scaling factors result)\n",
        "\n",
        "    max_row_change = []\n",
        "    max_col_change = []\n",
        "    p = 0\n",
        "\n",
        "    for i in range(0,n):\n",
        "        B = np.diag(x_mean)@sample[:,:,i]@np.diag(y_mean)\n",
        "        row_sum = B@r \n",
        "        col_sum = B.T@c\n",
        "    \n",
        "        row_sum_change = np.abs(row_sum-1)\n",
        "        col_sum_change = np.abs(col_sum-1)\n",
        "    \n",
        "        max_row_change = max_row_change + [np.max(row_sum_change)]\n",
        "        max_col_change = max_col_change + [np.max(col_sum_change)]\n",
        "        if np.maximum(np.max(row_sum_change), np.max(col_sum_change)) <= delta_val:\n",
        "          p = p+1\n",
        "    print(j,p)\n"
      ],
      "metadata": {
        "colab": {
          "base_uri": "https://localhost:8080/"
        },
        "id": "5KgeD9E9Vnzl",
        "outputId": "c91ac483-350e-47b3-a87e-1c7a74e7416a"
      },
      "execution_count": 20,
      "outputs": [
        {
          "output_type": "stream",
          "name": "stdout",
          "text": [
            "0 0\n",
            "1 0\n",
            "2 0\n",
            "3 0\n",
            "4 0\n",
            "5 517\n",
            "6 964\n",
            "7 1000\n",
            "8 1000\n",
            "9 1000\n",
            "10 1000\n",
            "11 1000\n",
            "12 1000\n",
            "13 1000\n",
            "14 1000\n"
          ]
        }
      ]
    },
    {
      "cell_type": "code",
      "source": [
        "####### Plotting minimum and maximum values as a function of a\n",
        "\n",
        "prob = []\n",
        "min_scal = []\n",
        "max_scal = []\n",
        "\n",
        "print(\"a_val, min scaling.  , max scaling.   , 0.8 quantile\") \n",
        "a_val = [1.5,1.4,1.3,1.2,1.1,1.0,0.9,0.8,0.7,0.6,0.5,0.4,0.3,0.2,0.1]\n",
        "\n",
        "for j in range(0,np.shape(a_val)[0]):\n",
        "    #print(j)\n",
        "    m = 50 #size of matrix\n",
        "    n = 1000 # #-of samples\n",
        "\n",
        "    sample = np.random.uniform(low = a_val[j], high=2.0, size =(m,m,n))\n",
        "    r = np.zeros(m)+1\n",
        "    c = r\n",
        "        \n",
        "    mean = np.zeros((m,m))+1\n",
        "    x,y,B_1 = matrix_scaling(mean,r,c)\n",
        "    x_mean, y_mean = normalise(x,y)\n",
        "\n",
        "    #Distribution of row and column scaling: Cutoff less than 1 (Necessary to apply stability of scaling factors result)\n",
        "\n",
        "    max_row_change = []\n",
        "    max_col_change = []\n",
        "    p = 0\n",
        "\n",
        "    for i in range(0,n):\n",
        "        B = np.diag(x_mean)@sample[:,:,i]@np.diag(y_mean)\n",
        "        row_sum = B@r \n",
        "        col_sum = B.T@c\n",
        "    \n",
        "        row_sum_change = np.abs(row_sum-1)\n",
        "        col_sum_change = np.abs(col_sum-1)\n",
        "    \n",
        "        max_row_change = max_row_change + [np.max(row_sum_change)]\n",
        "        max_col_change = max_col_change + [np.max(col_sum_change)]\n",
        "        max_row_change = max_row_change + [np.max(row_sum_change)]\n",
        "        max_col_change = max_col_change + [np.max(col_sum_change)]\n",
        "\n",
        "    delta_vals = np.maximum(np.array(max_row_change), np.array(max_col_change))\n",
        "    min_scal= min_scal + [np.min(delta_vals)]\n",
        "    max_scal= max_scal + [np.max(delta_vals)]\n",
        "    delta_vals = np.maximum(np.array(max_row_change), np.array(max_col_change))\n",
        "    delta = delta + [np.quantile(delta_vals, 0.8)]\n",
        "\n",
        "    print(a_val[j],np.min(delta_vals),np.max(delta_vals), np.quantile(delta_vals, 0.8))\n"
      ],
      "metadata": {
        "colab": {
          "base_uri": "https://localhost:8080/"
        },
        "id": "SC_wUCjaWUGR",
        "outputId": "3ec65e78-b81c-49e4-b85e-2c49fda77490"
      },
      "execution_count": 26,
      "outputs": [
        {
          "output_type": "stream",
          "name": "stdout",
          "text": [
            "a_val, min scaling.  , max scaling.   , 0.8 quantile\n",
            "1.5 0.777993230114115 0.8396261402641239 0.8076761592786154\n",
            "1.4 0.7349573228180126 0.8113528098834413 0.7693138256467009\n",
            "1.3 0.6926988348132452 0.7938307995166363 0.7306356191851001\n",
            "1.2 0.640114582421266 0.7363392065187169 0.691494785706725\n",
            "1.1 0.594353852903059 0.7083171987224373 0.6536928647575443\n",
            "1.0 0.5581292855086408 0.6706999155144093 0.6140248187509695\n",
            "0.9 0.504973706591237 0.628882052739745 0.5784274382203054\n",
            "0.8 0.4730192273031828 0.6018843358562549 0.541807987184788\n",
            "0.7 0.4174434394412079 0.5847707463438059 0.5004760431152636\n",
            "0.6 0.38114731267168556 0.5383397029447958 0.46305421637481625\n",
            "0.5 0.3381513844242836 0.512036077072727 0.42418095391138155\n",
            "0.4 0.28799990205421655 0.4829658255510878 0.38414681631897973\n",
            "0.3 0.24530132208680144 0.42518165607929603 0.34455661074822247\n",
            "0.2 0.18755685006013878 0.42932957084531864 0.30638511385018213\n",
            "0.1 0.16943118237048593 0.37685942489195035 0.27017815457347427\n"
          ]
        }
      ]
    },
    {
      "cell_type": "code",
      "source": [
        "# Keeping b/a fixed\n",
        "\n",
        "prob = []\n",
        "min_scal = []\n",
        "max_scal = []\n",
        "\n",
        "print(\"a_val, min scaling.  , max scaling.   , 0.8 quantile\") \n",
        "a_val = [1.5,1.4,1.3,1.2,1.1,1.0,0.9,0.8,0.7,0.6,0.5,0.4,0.3,0.2,0.1]\n",
        "\n",
        "for j in range(0,np.shape(a_val)[0]):\n",
        "    #print(j)\n",
        "    m = 50 #size of matrix\n",
        "    n = 1000 # #-of samples\n",
        "\n",
        "    sample = np.random.uniform(low = a_val[j], high=2.0*a_val[j], size =(m,m,n))\n",
        "    r = np.zeros(m)+1\n",
        "    c = r\n",
        "        \n",
        "    mean = np.zeros((m,m))+1\n",
        "    x,y,B_1 = matrix_scaling(mean,r,c)\n",
        "    x_mean, y_mean = normalise(x,y)\n",
        "\n",
        "    #Distribution of row and column scaling: Cutoff less than 1 (Necessary to apply stability of scaling factors result)\n",
        "\n",
        "    max_row_change = []\n",
        "    max_col_change = []\n",
        "    p = 0\n",
        "\n",
        "    for i in range(0,n):\n",
        "        B = np.diag(x_mean)@sample[:,:,i]@np.diag(y_mean)\n",
        "        row_sum = B@r \n",
        "        col_sum = B.T@c\n",
        "    \n",
        "        row_sum_change = np.abs(row_sum-1)\n",
        "        col_sum_change = np.abs(col_sum-1)\n",
        "    \n",
        "        max_row_change = max_row_change + [np.max(row_sum_change)]\n",
        "        max_col_change = max_col_change + [np.max(col_sum_change)]\n",
        "        max_row_change = max_row_change + [np.max(row_sum_change)]\n",
        "        max_col_change = max_col_change + [np.max(col_sum_change)]\n",
        "\n",
        "    delta_vals = np.maximum(np.array(max_row_change), np.array(max_col_change))\n",
        "    min_scal= min_scal + [np.min(delta_vals)]\n",
        "    max_scal= max_scal + [np.max(delta_vals)]\n",
        "    delta_vals = np.maximum(np.array(max_row_change), np.array(max_col_change))\n",
        "    delta = delta + [np.quantile(delta_vals, 0.8)]\n",
        "\n",
        "    print(a_val[j],np.min(delta_vals),np.max(delta_vals), np.quantile(delta_vals, 0.8))\n",
        "\n"
      ],
      "metadata": {
        "colab": {
          "base_uri": "https://localhost:8080/"
        },
        "id": "qzy0SQh9h6wp",
        "outputId": "7d8f6fd9-92f7-40d5-c28f-6a5c2b336e2a"
      },
      "execution_count": 27,
      "outputs": [
        {
          "output_type": "stream",
          "name": "stdout",
          "text": [
            "a_val, min scaling.  , max scaling.   , 0.8 quantile\n",
            "1.5 1.3374906411157133 1.5031333661751045 1.4224044515059977\n",
            "1.4 1.1695768836001523 1.3472454341579083 1.2629888444581394\n",
            "1.3 1.0247765379866158 1.163771793047177 1.1003610926683165\n",
            "1.2 0.8688328139773396 1.01368002815286 0.9399627169411016\n",
            "1.1 0.7116862921661165 0.8434627223231326 0.7770557705974284\n",
            "1.0 0.5600144783432839 0.6784362594147457 0.6143640138491696\n",
            "0.9 0.40576060947145676 0.5011153622331257 0.4538097446754351\n",
            "0.8 0.2500513195740932 0.3513311363151661 0.2909400403460203\n",
            "0.7 0.08440497419976967 0.18103688065404366 0.1312890440930518\n",
            "0.6 0.1352687174721745 0.20616726347367598 0.16928822532224452\n",
            "0.5 0.2793777444265132 0.33897644547002004 0.30688472446047854\n",
            "0.4 0.4244102772613899 0.47182501649862363 0.4455898609081059\n",
            "0.3 0.5675696971303763 0.6001062851256999 0.5849640869688774\n",
            "0.2 0.7122356859122662 0.7334056802284015 0.7228300347442977\n",
            "0.1 0.8556790303191376 0.8677886577332748 0.8614548105423331\n"
          ]
        }
      ]
    },
    {
      "cell_type": "code",
      "source": [
        "######### Analysing dependance on min a ##################################\n",
        "\n",
        "## Fixed m and n"
      ],
      "metadata": {
        "id": "2_JAz4Olkp7U"
      },
      "execution_count": null,
      "outputs": []
    }
  ]
}