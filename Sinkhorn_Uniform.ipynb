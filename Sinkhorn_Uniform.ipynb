{
  "nbformat": 4,
  "nbformat_minor": 0,
  "metadata": {
    "colab": {
      "name": "Sinkhorn_Uniform.ipynb",
      "provenance": [],
      "collapsed_sections": []
    },
    "kernelspec": {
      "name": "python3",
      "display_name": "Python 3"
    },
    "language_info": {
      "name": "python"
    }
  },
  "cells": [
    {
      "cell_type": "code",
      "execution_count": null,
      "metadata": {
        "id": "3CxB3f4Jz6cV"
      },
      "outputs": [],
      "source": [
        "import numpy as np\n",
        "from numpy import linalg\n",
        "import random \n",
        "import matplotlib.pyplot as plt\n",
        "import math\n",
        "\n",
        "random.seed(10)"
      ]
    },
    {
      "cell_type": "code",
      "source": [
        "## Defining the function\n",
        "def matrix_scaling(A,r,c, tolerance = 10**(-8)):\n",
        "    (m,n) = np.shape(A)\n",
        "    one_m = np.zeros(m) + 1\n",
        "    one_n = np.zeros(n) + 1\n",
        "    row_sum = A@one_n\n",
        "    column_sum = A.T@one_m\n",
        "    \n",
        "    x_scale = one_m\n",
        "    y_scale = one_n\n",
        "    k = 1\n",
        "    \n",
        "    while max(np.linalg.norm(r - row_sum, np.inf), np.linalg.norm(c - column_sum, np.inf)) > tolerance:\n",
        "        k = k+1\n",
        "        if k % 2 == 0:\n",
        "            x = r/row_sum\n",
        "            x_scale = x_scale*x\n",
        "            A = np.diag(x)@A\n",
        "        else:\n",
        "            y = c/column_sum\n",
        "            y_scale = y_scale*y\n",
        "            A = A@np.diag(y)\n",
        "                 \n",
        "        #print(max(np.linalg.norm(r - row_sum, np.inf), np.linalg.norm(c - column_sum, np.inf)))\n",
        "        row_sum = A@one_n\n",
        "        column_sum = A.T@one_m\n",
        "    \n",
        "    return x_scale, y_scale, A\n",
        "\n",
        "def normalise(x,y):\n",
        "    n_x = np.linalg.norm(x,1)\n",
        "    n_y = np.linalg.norm(y,1)\n",
        "    alpha = np.sqrt(n_x/n_y)\n",
        "    \n",
        "    return x/alpha, y*alpha\n",
        "\n",
        "def dist(x,y,x_avg,y_avg):\n",
        "    x_max = np.max(np.abs(x/x_avg - 1))\n",
        "    y_max = np.max(np.abs(y/y_avg - 1))\n",
        "    return max(x_max, y_max)\n"
      ],
      "metadata": {
        "id": "7sbBdfZl0cBf"
      },
      "execution_count": null,
      "outputs": []
    },
    {
      "cell_type": "code",
      "source": [
        "x = np.array([1,2,3,4])\n",
        "y = np.array([6,7])\n",
        "x_avg = np.array([1,1,1,1])\n",
        "y_avg = np.array([6,5])\n",
        "\n",
        "x_max = np.max(np.abs(x/x_avg - 1))\n",
        "y_max = np.max(np.abs(y/y_avg - 1))\n",
        "max(x_max, y_max)\n",
        "\n",
        "dist(np.array([1,2,3,4]),np.array([6,7]),np.array([1,1,1,1]),np.array([6,5]))"
      ],
      "metadata": {
        "colab": {
          "base_uri": "https://localhost:8080/"
        },
        "id": "lYlklXd52Yf3",
        "outputId": "9bb8c7a8-8e7d-4150-8c0f-f341d4f8f25d"
      },
      "execution_count": null,
      "outputs": [
        {
          "output_type": "execute_result",
          "data": {
            "text/plain": [
              "3.0"
            ]
          },
          "metadata": {},
          "execution_count": 3
        }
      ]
    },
    {
      "cell_type": "code",
      "source": [
        "#Sampling from Uniform [1,2] distribution\n",
        "\n",
        "m = 50 #size of matrix\n",
        "n = 1000 # #-of samples\n",
        "\n",
        "sample = np.random.uniform(low = 1.0, high=2.0, size =(m,m,n))\n",
        "r = np.zeros(m)+1\n",
        "c = r\n",
        "\n",
        "#Storing Scaling Factors:\n",
        "\n",
        "x_factors = np.zeros((n,m))\n",
        "y_factors = np.zeros((n,m))\n",
        "matrices = np.zeros((m,m,n))\n",
        "\n",
        "\n",
        "for i in range(0,1000):\n",
        "    A = sample[:,:,i]\n",
        "    x, y, B = matrix_scaling(sample[:,:,i], r , c)\n",
        "    x_factors[i,:] = x\n",
        "    y_factors[i: ] = y\n",
        "    matrices[:,:,i] = B   \n",
        "\n",
        "min_val = []\n",
        "for i in range(0,1000):\n",
        "    min_val = min_val + [np.min(matrices[:,:,i])]\n",
        "    \n",
        "norm = []\n",
        "avg = 1.5\n",
        "mean = np.zeros((m,m))+avg\n",
        "mean_scaled = 1/m*(mean)\n",
        "for i in range(0,1000):\n",
        "    norm_1 = [np.linalg.norm(matrices[:,:,i] - mean, 2)]\n",
        "    norm = norm + norm_1\n",
        "\n",
        "min_val_2 = []\n",
        "for i in range(0,1000):\n",
        "    min_val_2 = min_val_2 + [np.min(matrices[:,:,i]/sample[:,:,i])]\n",
        "    \n",
        "max_val_2 = []\n",
        "for i in range(0,1000):\n",
        "    max_val_2 = min_val_2 + [np.max(matrices[:,:,i]/sample[:,:,i])]"
      ],
      "metadata": {
        "id": "-dp5cH_42cp7"
      },
      "execution_count": null,
      "outputs": []
    },
    {
      "cell_type": "code",
      "source": [
        "#Approximate scaling of matrix by scaling factors of the mean\n",
        "\n",
        "norm = []\n",
        "avg = 1.5\n",
        "mean = np.zeros((m,m))+avg\n",
        "x,y,B = matrix_scaling(mean,r,c)\n",
        "x_mean, y_mean = normalise(x,y)\n",
        "\n",
        "#Distribution of row and column scaling: Cutoff less than 1 (Necessary to apply stability of scaling factors result)\n",
        "\n",
        "max_row_change = []\n",
        "max_col_change = []\n",
        "\n",
        "avg_row_change = []\n",
        "avg_col_change = []\n",
        "\n",
        "min_row_change = []\n",
        "min_col_change = []\n",
        "\n",
        "for i in range(0,n):\n",
        "    B = np.diag(x_mean)@sample[:,:,i]@np.diag(y_mean)\n",
        "    row_sum = B@r \n",
        "    col_sum = B.T@c\n",
        "    \n",
        "    row_sum_change = np.abs(row_sum-1)\n",
        "    col_sum_change = np.abs(col_sum-1)\n",
        "    \n",
        "    max_row_change = max_row_change + [np.max(row_sum_change)]\n",
        "    max_col_change = max_col_change + [np.max(col_sum_change)]\n",
        "    \n",
        "    avg_row_change = avg_row_change + [np.mean(row_sum_change)]\n",
        "    avg_col_change = avg_col_change + [np.mean(col_sum_change)]\n",
        "\n",
        "    min_row_change = min_row_change + [np.min(row_sum_change)]\n",
        "    min_col_change = min_col_change + [np.min(col_sum_change)]\n",
        "\n",
        "#Histograms of approximate scaling:\n",
        "\n",
        "fig, ax = plt.subplots(2, 3, figsize =(10, 7),sharex='col', sharey='row')\n",
        "ax[0,0].hist(np.array(avg_row_change), bins = 200)\n",
        "ax[1,0].hist(np.array(avg_col_change), bins = 200)\n",
        "\n",
        "ax[0,0].set(xlabel = \"Average Row change\", ylabel= \"Frequency\") \n",
        "ax[1,0].set(xlabel = \"Average Col change\", ylabel= \"Frequency\") \n",
        "\n",
        "ax[0,1].hist(np.array(max_row_change), bins = 200)\n",
        "ax[1,1].hist(np.array(max_col_change), bins = 200)\n",
        "\n",
        "ax[0,1].set(xlabel = \"Max Row change\", ylabel= \"Frequency\") \n",
        "ax[1,1].set(xlabel = \"Max Col change\", ylabel= \"Frequency\")\n",
        "\n",
        "ax[0,2].hist(np.array(min_row_change), bins = 200)\n",
        "ax[1,2].hist(np.array(min_col_change), bins = 200)\n",
        "\n",
        "ax[0,2].set(xlabel = \"Min Row change\", ylabel= \"Frequency\") \n",
        "ax[1,2].set(xlabel = \"Min Col change\", ylabel= \"Frequency\")\n",
        "\n",
        "plt.show()\n"
      ],
      "metadata": {
        "colab": {
          "base_uri": "https://localhost:8080/",
          "height": 442
        },
        "id": "V6njkHtZ2t-h",
        "outputId": "0db3a1eb-00db-48de-bf78-2076969431e0"
      },
      "execution_count": null,
      "outputs": [
        {
          "output_type": "display_data",
          "data": {
            "text/plain": [
              "<Figure size 720x504 with 6 Axes>"
            ],
            "image/png": "[encoded data removed]"
          },
          "metadata": {
            "needs_background": "light"
          }
        }
      ]
    },
    {
      "cell_type": "code",
      "source": [
        "#Sampling from Uniform [1,1+2 sqrt(6)] distribution\n",
        "\n",
        "m = 50 #size of matrix\n",
        "n = 1000 # #-of samples\n",
        "\n",
        "sample = np.random.uniform(low = 1.0, high=2*(6)**0.5, size =(m,m,n))\n",
        "r = np.zeros(m)+1\n",
        "c = r\n",
        "\n",
        "#Storing Scaling Factors:\n",
        "\n",
        "x_factors = np.zeros((n,m))\n",
        "y_factors = np.zeros((n,m))\n",
        "matrices = np.zeros((m,m,n))\n",
        "\n",
        "\n",
        "for i in range(0,1000):\n",
        "    A = sample[:,:,i]\n",
        "    x, y, B = matrix_scaling(sample[:,:,i], r , c)\n",
        "    x_factors[i,:] = x\n",
        "    y_factors[i: ] = y\n",
        "    matrices[:,:,i] = B   \n",
        "\n",
        "min_val = []\n",
        "for i in range(0,1000):\n",
        "    min_val = min_val + [np.min(matrices[:,:,i])]\n",
        "    \n",
        "norm = []\n",
        "avg = 1 + (6)**0.5\n",
        "mean = np.zeros((m,m))+avg\n",
        "mean_scaled = 1/m*(mean)\n",
        "for i in range(0,1000):\n",
        "    norm_1 = [np.linalg.norm(matrices[:,:,i] - mean, 2)]\n",
        "    norm = norm + norm_1\n",
        "\n",
        "min_val_2 = []\n",
        "for i in range(0,1000):\n",
        "    min_val_2 = min_val_2 + [np.min(matrices[:,:,i]/sample[:,:,i])]\n",
        "    \n",
        "max_val_2 = []\n",
        "for i in range(0,1000):\n",
        "    max_val_2 = min_val_2 + [np.max(matrices[:,:,i]/sample[:,:,i])]"
      ],
      "metadata": {
        "id": "WjeyfZoUHLa8"
      },
      "execution_count": null,
      "outputs": []
    },
    {
      "cell_type": "code",
      "source": [
        "#Approximate scaling of matrix by scaling factors of the mean\n",
        "\n",
        "norm = []\n",
        "avg = 1 + (6)**0.5\n",
        "mean = np.zeros((m,m))+avg\n",
        "x,y,B = matrix_scaling(mean,r,c)\n",
        "x_mean, y_mean = normalise(x,y)\n",
        "\n",
        "#Distribution of row and column scaling: Cutoff less than 1 (Necessary to apply stability of scaling factors result)\n",
        "\n",
        "max_row_change = []\n",
        "max_col_change = []\n",
        "\n",
        "avg_row_change = []\n",
        "avg_col_change = []\n",
        "\n",
        "min_row_change = []\n",
        "min_col_change = []\n",
        "\n",
        "for i in range(0,n):\n",
        "    B = np.diag(x_mean)@sample[:,:,i]@np.diag(y_mean)\n",
        "    row_sum = B@r \n",
        "    col_sum = B.T@c\n",
        "    \n",
        "    row_sum_change = np.abs(row_sum-1)\n",
        "    col_sum_change = np.abs(col_sum-1)\n",
        "    \n",
        "    max_row_change = max_row_change + [np.max(row_sum_change)]\n",
        "    max_col_change = max_col_change + [np.max(col_sum_change)]\n",
        "    \n",
        "    avg_row_change = avg_row_change + [np.mean(row_sum_change)]\n",
        "    avg_col_change = avg_col_change + [np.mean(col_sum_change)]\n",
        "\n",
        "    min_row_change = min_row_change + [np.min(row_sum_change)]\n",
        "    min_col_change = min_col_change + [np.min(col_sum_change)]\n",
        "\n",
        "#Histograms of approximate scaling:\n",
        "\n",
        "fig, ax = plt.subplots(2, 3, figsize =(10, 7),sharex='col', sharey='row')\n",
        "ax[0,0].hist(np.array(avg_row_change), bins = 200)\n",
        "ax[1,0].hist(np.array(avg_col_change), bins = 200)\n",
        "\n",
        "ax[0,0].set(xlabel = \"Average Row change\", ylabel= \"Frequency\") \n",
        "ax[1,0].set(xlabel = \"Average Col change\", ylabel= \"Frequency\") \n",
        "\n",
        "ax[0,1].hist(np.array(max_row_change), bins = 200)\n",
        "ax[1,1].hist(np.array(max_col_change), bins = 200)\n",
        "\n",
        "ax[0,1].set(xlabel = \"Max Row change\", ylabel= \"Frequency\") \n",
        "ax[1,1].set(xlabel = \"Max Col change\", ylabel= \"Frequency\")\n",
        "\n",
        "ax[0,2].hist(np.array(min_row_change), bins = 200)\n",
        "ax[1,2].hist(np.array(min_col_change), bins = 200)\n",
        "\n",
        "ax[0,2].set(xlabel = \"Min Row change\", ylabel= \"Frequency\") \n",
        "ax[1,2].set(xlabel = \"Min Col change\", ylabel= \"Frequency\")\n",
        "\n",
        "plt.show()\n"
      ],
      "metadata": {
        "colab": {
          "base_uri": "https://localhost:8080/",
          "height": 442
        },
        "outputId": "a01c64ce-7f63-406d-a1b7-75348023228f",
        "id": "y8CMV7N8HLbJ"
      },
      "execution_count": null,
      "outputs": [
        {
          "output_type": "display_data",
          "data": {
            "text/plain": [
              "<Figure size 720x504 with 6 Axes>"
            ],
            "image/png": "[encoded data removed]"
          },
          "metadata": {
            "needs_background": "light"
          }
        }
      ]
    },
    {
      "cell_type": "code",
      "source": [
        "#Sampling from Uni [1,2] distribution\n",
        "\n",
        "m = 100 #size of matrix\n",
        "n = 1000 # #-of samples\n",
        "\n",
        "sample = np.random.uniform(low = 1.0, high=2.0, size =(m,m,n))\n",
        "r = np.zeros(m)+1\n",
        "c = r\n",
        "\n",
        "#Storing Scaling Factors:\n",
        "\n",
        "x_factors = np.zeros((n,m))\n",
        "y_factors = np.zeros((n,m))\n",
        "matrices = np.zeros((m,m,n))\n",
        "\n",
        "\n",
        "for i in range(0,n):\n",
        "    A = sample[:,:,i]\n",
        "    x, y, B = matrix_scaling(sample[:,:,i], r , c)\n",
        "    x_factors[i,:] = x\n",
        "    y_factors[i: ] = y\n",
        "    matrices[:,:,i] = B   \n",
        "\n",
        "min_val = []\n",
        "for i in range(0,n):\n",
        "    min_val = min_val + [np.min(matrices[:,:,i])]\n",
        "    \n",
        "norm = []\n",
        "mean = np.zeros((m,m))+avg\n",
        "mean_scaled = 1/m*(np.zeros((m,m))+avg)\n",
        "for i in range(0,n):\n",
        "    norm_1 = [np.linalg.norm(matrices[:,:,i] - mean, 2)]\n",
        "    norm = norm + norm_1\n",
        "\n",
        "min_val_2 = []\n",
        "for i in range(0,n):\n",
        "    min_val_2 = min_val_2 + [np.min(matrices[:,:,i]/sample[:,:,i])]\n",
        "    \n",
        "max_val_2 = []\n",
        "for i in range(0,n):\n",
        "    max_val_2 = min_val_2 + [np.max(matrices[:,:,i]/sample[:,:,i])]"
      ],
      "metadata": {
        "id": "Hc-q5pbg3ueS"
      },
      "execution_count": null,
      "outputs": []
    },
    {
      "cell_type": "code",
      "source": [
        "#Approximate scaling of matrix by scaling factors of the mean\n",
        "\n",
        "x,y,B = matrix_scaling(mean,r,c)\n",
        "x_mean, y_mean = normalise(x,y)\n",
        "\n",
        "#Distribution of row and column scaling: Cutoff less than 1 (Necessary to apply stability of scaling factors result)\n",
        "\n",
        "max_row_change = []\n",
        "max_col_change = []\n",
        "\n",
        "avg_row_change = []\n",
        "avg_col_change = []\n",
        "\n",
        "min_row_change = []\n",
        "min_col_change = []\n",
        "\n",
        "for i in range(0,n):\n",
        "    B = np.diag(x_mean)@sample[:,:,i]@np.diag(y_mean)\n",
        "    row_sum = B@r \n",
        "    col_sum = B.T@c\n",
        "    \n",
        "    row_sum_change = np.abs(row_sum-1)\n",
        "    col_sum_change = np.abs(col_sum-1)\n",
        "    \n",
        "    max_row_change = max_row_change + [np.max(row_sum_change)]\n",
        "    max_col_change = max_col_change + [np.max(col_sum_change)]\n",
        "    \n",
        "    avg_row_change = avg_row_change + [np.mean(row_sum_change)]\n",
        "    avg_col_change = avg_col_change + [np.mean(col_sum_change)]\n",
        "\n",
        "    min_row_change = min_row_change + [np.min(row_sum_change)]\n",
        "    min_col_change = min_col_change + [np.min(col_sum_change)]\n",
        "\n",
        "#Histograms of approximate scaling:\n",
        "\n",
        "fig, ax = plt.subplots(2, 3, figsize =(10, 7),sharex='col', sharey='row')\n",
        "ax[0,0].hist(np.array(avg_row_change), bins = 200)\n",
        "ax[1,0].hist(np.array(avg_col_change), bins = 200)\n",
        "\n",
        "ax[0,0].set(xlabel = \"Average Row change\", ylabel= \"Frequency\") \n",
        "ax[1,0].set(xlabel = \"Average Col change\", ylabel= \"Frequency\") \n",
        "\n",
        "ax[0,1].hist(np.array(max_row_change), bins = 200)\n",
        "ax[1,1].hist(np.array(max_col_change), bins = 200)\n",
        "\n",
        "ax[0,1].set(xlabel = \"Max Row change\", ylabel= \"Frequency\") \n",
        "ax[1,1].set(xlabel = \"Max Col change\", ylabel= \"Frequency\")\n",
        "\n",
        "ax[0,2].hist(np.array(min_row_change), bins = 200)\n",
        "ax[1,2].hist(np.array(min_col_change), bins = 200)\n",
        "\n",
        "ax[0,2].set(xlabel = \"Min Row change\", ylabel= \"Frequency\") \n",
        "ax[1,2].set(xlabel = \"Min Col change\", ylabel= \"Frequency\")\n",
        "\n",
        "plt.show()"
      ],
      "metadata": {
        "colab": {
          "base_uri": "https://localhost:8080/",
          "height": 442
        },
        "id": "i7X4_lMG24Lm",
        "outputId": "152fbc71-e764-46f5-df32-14f4bb7824f5"
      },
      "execution_count": null,
      "outputs": [
        {
          "output_type": "display_data",
          "data": {
            "text/plain": [
              "<Figure size 720x504 with 6 Axes>"
            ],
            "image/png": "[encoded data removed]"
          },
          "metadata": {
            "needs_background": "light"
          }
        }
      ]
    },
    {
      "cell_type": "code",
      "source": [
        "delta = []\n",
        "for j in range(20,220,20):\n",
        "    print(j)\n",
        "    m = j #size of matrix\n",
        "    n = 1000 # #-of samples\n",
        "\n",
        "    sample = np.random.uniform(low = 1.0, high=2.0, size =(m,m,n))\n",
        "    r = np.zeros(m)+1\n",
        "    c = r\n",
        "        \n",
        "    mean = np.zeros((m,m))+avg\n",
        "    x,y,B_1 = matrix_scaling(mean,r,c)\n",
        "    x_mean, y_mean = normalise(x,y)\n",
        "\n",
        "    #Distribution of row and column scaling: Cutoff less than 1 (Necessary to apply stability of scaling factors result)\n",
        "\n",
        "    max_row_change = []\n",
        "    max_col_change = []\n",
        "\n",
        "    for i in range(0,n):\n",
        "        B = np.diag(x_mean)@sample[:,:,i]@np.diag(y_mean)\n",
        "        row_sum = B@r \n",
        "        col_sum = B.T@c\n",
        "    \n",
        "        row_sum_change = np.abs(row_sum-1)\n",
        "        col_sum_change = np.abs(col_sum-1)\n",
        "    \n",
        "        max_row_change = max_row_change + [np.max(row_sum_change)]\n",
        "        max_col_change = max_col_change + [np.max(col_sum_change)]\n",
        "\n",
        "    delta_vals = np.maximum(np.array(max_row_change), np.array(max_col_change))\n",
        "    delta = delta + [np.quantile(delta_vals, 0.8)]\n"
      ],
      "metadata": {
        "colab": {
          "base_uri": "https://localhost:8080/"
        },
        "id": "9TOMxxTi3BgI",
        "outputId": "7a6a808f-d9a7-48b8-9fd8-1537c1b0cf04"
      },
      "execution_count": null,
      "outputs": [
        {
          "output_type": "stream",
          "name": "stdout",
          "text": [
            "20\n",
            "40\n",
            "60\n",
            "80\n",
            "100\n",
            "120\n",
            "140\n",
            "160\n",
            "180\n",
            "200\n"
          ]
        }
      ]
    },
    {
      "cell_type": "code",
      "source": [
        "for i in range(0,np.shape(np.arange(20,220,20))[0]):\n",
        "  print(i)"
      ],
      "metadata": {
        "colab": {
          "base_uri": "https://localhost:8080/"
        },
        "id": "Xq-173fD9eIr",
        "outputId": "9e44caa6-9131-4609-f87a-4ea0894c00da"
      },
      "execution_count": null,
      "outputs": [
        {
          "output_type": "stream",
          "name": "stdout",
          "text": [
            "0\n",
            "1\n",
            "2\n",
            "3\n",
            "4\n",
            "5\n",
            "6\n",
            "7\n",
            "8\n",
            "9\n"
          ]
        }
      ]
    },
    {
      "cell_type": "code",
      "source": [
        "delta"
      ],
      "metadata": {
        "colab": {
          "base_uri": "https://localhost:8080/"
        },
        "id": "ymplQO8A3ML4",
        "outputId": "b06dd43c-36f9-4e65-b962-f1d9fadada43"
      },
      "execution_count": null,
      "outputs": [
        {
          "output_type": "execute_result",
          "data": {
            "text/plain": [
              "[0.11763419609897507,\n",
              " 0.09000508387129544,\n",
              " 0.07725285814182073,\n",
              " 0.06751983022461212,\n",
              " 0.062108448865365866,\n",
              " 0.058139673235718406,\n",
              " 0.054546005064175486,\n",
              " 0.051726945810653915,\n",
              " 0.04840939927094614,\n",
              " 0.04719709273186381]"
            ]
          },
          "metadata": {},
          "execution_count": 10
        }
      ]
    },
    {
      "cell_type": "code",
      "source": [
        "x_plt = np.arange(20,220,20)\n",
        "y_plt = delta\n",
        "\n",
        "plt.plot(x_plt, y_plt)\n",
        "plt.xlabel(\"Matrix Dimension: N\")\n",
        "plt.ylabel(\"0.8 Quantile value for delta\")\n",
        "plt.show()\n",
        "\n",
        "plt.plot(np.log(np.array(x_plt)), y_plt)\n",
        "plt.xlabel(\"Log of Matrix Dimension: N\")\n",
        "plt.ylabel(\"0.8 Quantile value for delta\")\n",
        "plt.show()\n",
        "\n",
        "plt.plot(np.sqrt(np.log(np.array(x_plt))/x_plt), y_plt)\n",
        "plt.xlabel(\"(sqrt(logN/N)\")\n",
        "plt.ylabel(\"0.8 Quantile value for delta\")\n",
        "plt.show()"
      ],
      "metadata": {
        "colab": {
          "base_uri": "https://localhost:8080/",
          "height": 806
        },
        "id": "9uTZ4dhq6JtH",
        "outputId": "ea5ffae2-646b-4a50-b925-405226ae1629"
      },
      "execution_count": null,
      "outputs": [
        {
          "output_type": "display_data",
          "data": {
            "text/plain": [
              "<Figure size 432x288 with 1 Axes>"
            ],
            "image/png": "[encoded data removed]"
          },
          "metadata": {
            "needs_background": "light"
          }
        },
        {
          "output_type": "display_data",
          "data": {
            "text/plain": [
              "<Figure size 432x288 with 1 Axes>"
            ],
            "image/png": "[encoded data removed]"
          },
          "metadata": {
            "needs_background": "light"
          }
        },
        {
          "output_type": "display_data",
          "data": {
            "text/plain": [
              "<Figure size 432x288 with 1 Axes>"
            ],
            "image/png": "[encoded data removed]"
          },
          "metadata": {
            "needs_background": "light"
          }
        }
      ]
    },
    {
      "cell_type": "code",
      "source": [
        "####Dependence on n of Bounds on Scaling Factors: Fixing Probability ######\n",
        "\n",
        "## Bounds at 0.8 probability level: We already have estimates for delta\n",
        "\n",
        "n_val = np.arange(20,220,20)\n",
        "delta_val = delta\n",
        "\n",
        "bound = []\n",
        "\n",
        "for j in range(0,np.shape(n_val)[0]):\n",
        "    print(j)\n",
        "    m = n_val[j] #size of matrix\n",
        "    n = 1000 # #-of samples\n",
        "\n",
        "    sample = np.random.uniform(low = 1.0, high=2.0, size =(m,m,n))\n",
        "    r = np.zeros(m)+1\n",
        "    c = r  \n",
        "        \n",
        "    mean = np.zeros((m,m))+avg\n",
        "    x,y,B_1 = matrix_scaling(mean,r,c)\n",
        "    x_mean, y_mean = normalise(x,y)\n",
        "    maxi = 0\n",
        "    \n",
        "    x_factors = np.zeros((n,m))\n",
        "    y_factors = np.zeros((n,m))\n",
        "    matrices = np.zeros((m,m,n))\n",
        "    for i in range(0,n):\n",
        "        A = sample[:,:,i]\n",
        "        x, y, B = matrix_scaling(sample[:,:,i], r , c)\n",
        "        x_factors[i,:] = x\n",
        "        y_factors[i: ] = y\n",
        "        x,y = normalise(x,y)\n",
        "        matrices[:,:,i] = B   \n",
        "        \n",
        "        B = np.diag(x_mean)@sample[:,:,i]@np.diag(y_mean)\n",
        "        row_sum = B@r \n",
        "        col_sum = B.T@c\n",
        "        row_sum_change = np.abs(row_sum-1)\n",
        "        col_sum_change = np.abs(col_sum-1)\n",
        "        \n",
        "        \n",
        "        if max(np.max(row_sum_change), np.max(col_sum_change))<= delta_val[j]:\n",
        "            maxi = max(maxi, dist(x,y,x_mean,y_mean))\n",
        "\n",
        "    bound = bound + [maxi]\n",
        "\n",
        "bound"
      ],
      "metadata": {
        "colab": {
          "base_uri": "https://localhost:8080/"
        },
        "id": "l5SKU-m33FQx",
        "outputId": "10d3880e-0f45-4a87-abbb-8096113471db"
      },
      "execution_count": null,
      "outputs": [
        {
          "output_type": "stream",
          "name": "stdout",
          "text": [
            "0\n",
            "1\n",
            "2\n",
            "3\n",
            "4\n",
            "5\n",
            "6\n",
            "7\n",
            "8\n",
            "9\n"
          ]
        }
      ]
    },
    {
      "cell_type": "code",
      "source": [
        "x_plt = np.arange(20,220,20)\n",
        "y_plt = bound\n",
        "\n",
        "plt.plot(x_plt, y_plt)\n",
        "plt.xlabel(\"Matrix Dimension: N\")\n",
        "plt.ylabel(\"Bounds\")\n",
        "plt.show()\n",
        "\n",
        "plt.plot(np.log(np.array(x_plt)), y_plt)\n",
        "plt.xlabel(\"Log of Matrix Dimension: N\")\n",
        "plt.ylabel(\"Bounds\")\n",
        "plt.show()\n",
        "\n",
        "plt.plot(np.sqrt(np.log(np.array(x_plt))/x_plt), y_plt)\n",
        "plt.xlabel(\"(sqrt(logN/N)\")\n",
        "plt.ylabel(\"Bounds\")\n",
        "plt.show()"
      ],
      "metadata": {
        "id": "aNHrMAR792zG"
      },
      "execution_count": null,
      "outputs": []
    },
    {
      "cell_type": "code",
      "source": [
        "########### Fixing Delta: Bounds and the associated Probability ##########\n",
        "\n",
        "delta_val = 0.1\n",
        "\n",
        "n_val = np.arange(20,220,20)\n",
        "\n",
        "prob = []\n",
        "bound = []\n",
        "\n",
        "for j in range(0,np.shape(n_val)[0]):\n",
        "    print(j)\n",
        "    m = n_val[j] #size of matrix\n",
        "    n = 1000 # #-of samples\n",
        "\n",
        "    sample = np.random.uniform(low = 1.0, high=2.0, size =(m,m,n))\n",
        "    r = np.zeros(m)+1\n",
        "    c = r  \n",
        "        \n",
        "    mean = np.zeros((m,m))+avg\n",
        "    x,y,B_1 = matrix_scaling(mean,r,c)\n",
        "    x_mean, y_mean = normalise(x,y)\n",
        "    maxi = 0\n",
        "    p = 0\n",
        "    \n",
        "    x_factors = np.zeros((n,m))\n",
        "    y_factors = np.zeros((n,m))\n",
        "    matrices = np.zeros((m,m,n))\n",
        "    for i in range(0,n):\n",
        "        A = sample[:,:,i]\n",
        "        x, y, B = matrix_scaling(sample[:,:,i], r , c)\n",
        "        x_factors[i,:] = x\n",
        "        y_factors[i: ] = y\n",
        "        x,y = normalise(x,y)\n",
        "        matrices[:,:,i] = B   \n",
        "        \n",
        "        B = np.diag(x_mean)@sample[:,:,i]@np.diag(y_mean)\n",
        "        row_sum = B@r \n",
        "        col_sum = B.T@c\n",
        "        row_sum_change = np.abs(row_sum-1)\n",
        "        col_sum_change = np.abs(col_sum-1)\n",
        "        \n",
        "        \n",
        "        if max(np.max(row_sum_change), np.max(col_sum_change))<= delta_val: #Fixed value\n",
        "            maxi = max(maxi, dist(x,y,x_mean,y_mean))\n",
        "            p = p+1\n",
        "\n",
        "    bound = bound + [maxi]\n",
        "    prob = prob + [p]\n",
        "bound"
      ],
      "metadata": {
        "colab": {
          "base_uri": "https://localhost:8080/"
        },
        "id": "G4p2XuMKAe64",
        "outputId": "5a2f462d-6534-4703-a8eb-2324bb6f069b"
      },
      "execution_count": null,
      "outputs": [
        {
          "output_type": "stream",
          "name": "stdout",
          "text": [
            "0\n",
            "1\n",
            "2\n",
            "3\n",
            "4\n",
            "5\n",
            "6\n",
            "7\n",
            "8\n",
            "9\n"
          ]
        },
        {
          "output_type": "execute_result",
          "data": {
            "text/plain": [
              "[0.1173717901807636,\n",
              " 0.11307745322704021,\n",
              " 0.11068180372734782,\n",
              " 0.0999716662681831,\n",
              " 0.09927328396623536,\n",
              " 0.09124795073364655,\n",
              " 0.07374189061483372,\n",
              " 0.07539694872259872,\n",
              " 0.07703267286054749,\n",
              " 0.06705763450133384]"
            ]
          },
          "metadata": {},
          "execution_count": 14
        }
      ]
    },
    {
      "cell_type": "code",
      "source": [
        "#Theoretical Bound:\n",
        "\n",
        "print((1+2**4.5)*0.10) "
      ],
      "metadata": {
        "colab": {
          "base_uri": "https://localhost:8080/"
        },
        "id": "ZPuteurlSpK4",
        "outputId": "175b51ab-530e-498b-d7d2-b6ebc32c8941"
      },
      "execution_count": null,
      "outputs": [
        {
          "output_type": "stream",
          "name": "stdout",
          "text": [
            "2.362741699796952\n"
          ]
        }
      ]
    },
    {
      "cell_type": "code",
      "source": [
        "x_plt = np.arange(20,220,20)\n",
        "y_plt = bound\n",
        "\n",
        "plt.plot(x_plt, y_plt)\n",
        "plt.xlabel(\"Matrix Dimension: N\")\n",
        "plt.ylabel(\"Bounds\")\n",
        "plt.show()\n",
        "\n",
        "plt.plot(np.log(np.array(x_plt)), y_plt)\n",
        "plt.xlabel(\"Log of Matrix Dimension: N\")\n",
        "plt.ylabel(\"Bounds\")\n",
        "plt.show()\n",
        "\n",
        "plt.plot(np.sqrt(np.log(np.array(x_plt))/x_plt), y_plt)\n",
        "plt.xlabel(\"(sqrt(logN/N)\")\n",
        "plt.ylabel(\"Bounds\")\n",
        "plt.show()"
      ],
      "metadata": {
        "colab": {
          "base_uri": "https://localhost:8080/",
          "height": 803
        },
        "id": "f6rQNVMLEqN2",
        "outputId": "80fad39f-c61f-4d5b-81f3-4989b9b57561"
      },
      "execution_count": null,
      "outputs": [
        {
          "output_type": "display_data",
          "data": {
            "text/plain": [
              "<Figure size 432x288 with 1 Axes>"
            ],
            "image/png": "[encoded data removed]"
          },
          "metadata": {
            "needs_background": "light"
          }
        },
        {
          "output_type": "display_data",
          "data": {
            "text/plain": [
              "<Figure size 432x288 with 1 Axes>"
            ],
            "image/png": "[encoded data removed]"
          },
          "metadata": {
            "needs_background": "light"
          }
        },
        {
          "output_type": "display_data",
          "data": {
            "text/plain": [
              "<Figure size 432x288 with 1 Axes>"
            ],
            "image/png": "[encoded data removed]"
          },
          "metadata": {
            "needs_background": "light"
          }
        }
      ]
    },
    {
      "cell_type": "code",
      "source": [
        "x_plt = np.arange(20,220,20)\n",
        "y_plt = np.array(prob)/n\n",
        "\n",
        "plt.plot(x_plt, y_plt)\n",
        "plt.xlabel(\"Matrix Dimension: N\")\n",
        "plt.ylabel(\"Probability\")\n",
        "plt.show()\n"
      ],
      "metadata": {
        "colab": {
          "base_uri": "https://localhost:8080/",
          "height": 279
        },
        "id": "Qmk63JShE0Xj",
        "outputId": "1a93f021-6828-42e1-99d1-9e7e3f30225c"
      },
      "execution_count": null,
      "outputs": [
        {
          "output_type": "display_data",
          "data": {
            "text/plain": [
              "<Figure size 432x288 with 1 Axes>"
            ],
            "image/png": "[encoded data removed]"
          },
          "metadata": {
            "needs_background": "light"
          }
        }
      ]
    },
    {
      "cell_type": "code",
      "source": [
        "np.array(prob)/1000"
      ],
      "metadata": {
        "colab": {
          "base_uri": "https://localhost:8080/"
        },
        "id": "blBBWorkL0Hs",
        "outputId": "f800204b-1661-4123-f968-25bc679420ca"
      },
      "execution_count": null,
      "outputs": [
        {
          "output_type": "execute_result",
          "data": {
            "text/plain": [
              "array([0.453, 0.921, 0.993, 1.   , 1.   , 1.   , 1.   , 1.   , 1.   ,\n",
              "       1.   ])"
            ]
          },
          "metadata": {},
          "execution_count": 18
        }
      ]
    },
    {
      "cell_type": "code",
      "source": [
        "########## Analysing dependance on a #####################################\n",
        "\n",
        "a_val = [1.5,1.3,1.1,0.9,0.7,0.5,0.3,0.1]\n",
        "delta_val = 0.1\n",
        "\n",
        "bound = []\n",
        "prob = []\n",
        "\n",
        "for j in range(0,np.shape(a_val)[0]):\n",
        "    print(j)\n",
        "    m = 50 #size of matrix\n",
        "    n = 1000 # #-of samples\n",
        "\n",
        "    sample = np.random.uniform(low = a_val[j], high=2.0, size =(m,m,n))\n",
        "    r = np.zeros(m)+1\n",
        "    c = r  \n",
        "    \n",
        "    avg = (a_val[j] + 2)/2\n",
        "    mean = np.zeros((m,m))+avg\n",
        "    x,y,B_1 = matrix_scaling(mean,r,c)\n",
        "    x_mean, y_mean = normalise(x,y)\n",
        "    maxi = -1\n",
        "    p = 0\n",
        "    \n",
        "    x_factors = np.zeros((n,m))\n",
        "    y_factors = np.zeros((n,m))\n",
        "    matrices = np.zeros((m,m,n))\n",
        "    for i in range(0,n):\n",
        "        A = sample[:,:,i]\n",
        "        x, y, B = matrix_scaling(sample[:,:,i], r , c)\n",
        "        x_factors[i,:] = x\n",
        "        y_factors[i: ] = y\n",
        "        x,y = normalise(x,y)\n",
        "        matrices[:,:,i] = B   \n",
        "        \n",
        "        B = np.diag(x_mean)@sample[:,:,i]@np.diag(y_mean)\n",
        "        row_sum = B@r \n",
        "        col_sum = B.T@c\n",
        "        row_sum_change = np.abs(row_sum-1)\n",
        "        col_sum_change = np.abs(col_sum-1)\n",
        "        \n",
        "        \n",
        "        if max(np.max(row_sum_change), np.max(col_sum_change))<= delta_val:\n",
        "            maxi = max(maxi, dist(x,y,x_mean,y_mean))\n",
        "            p = p+1\n",
        "\n",
        "    bound = bound + [maxi]\n",
        "    prob = prob + [p]\n",
        "\n",
        "bound"
      ],
      "metadata": {
        "colab": {
          "base_uri": "https://localhost:8080/"
        },
        "id": "AQIBgR7aMtwj",
        "outputId": "4ec05880-f11c-41c9-ae9f-e83f85782ffe"
      },
      "execution_count": null,
      "outputs": [
        {
          "output_type": "stream",
          "name": "stdout",
          "text": [
            "0\n",
            "1\n",
            "2\n",
            "3\n",
            "4\n",
            "5\n",
            "6\n",
            "7\n"
          ]
        },
        {
          "output_type": "execute_result",
          "data": {
            "text/plain": [
              "[0.05386710936389494,\n",
              " 0.07327372413745725,\n",
              " 0.10455311971581205,\n",
              " 0.11114406268256682,\n",
              " 0.11658681166257101,\n",
              " 0.11183963906496852,\n",
              " -1,\n",
              " -1]"
            ]
          },
          "metadata": {},
          "execution_count": 29
        }
      ]
    },
    {
      "cell_type": "code",
      "source": [
        "np.array(prob)/n"
      ],
      "metadata": {
        "colab": {
          "base_uri": "https://localhost:8080/"
        },
        "id": "zVQo9o-rVKOi",
        "outputId": "166c078d-8484-451a-f0e4-c9b83f77ad0f"
      },
      "execution_count": null,
      "outputs": [
        {
          "output_type": "execute_result",
          "data": {
            "text/plain": [
              "array([1.   , 1.   , 0.999, 0.889, 0.337, 0.01 , 0.   , 0.   ])"
            ]
          },
          "metadata": {},
          "execution_count": 30
        }
      ]
    },
    {
      "cell_type": "code",
      "source": [
        "x_plt = [1.5,1.3,1.1,0.9,0.7,0.5]\n",
        "y_plt = bound[:6]\n",
        "\n",
        "plt.plot(x_plt, y_plt)\n",
        "plt.xlabel(\"a\")\n",
        "plt.ylabel(\"Bounds\")\n",
        "plt.show()\n",
        "\n",
        "\n",
        "plt.plot(np.log(np.array(x_plt)), y_plt)\n",
        "plt.xlabel(\"log a\")\n",
        "plt.ylabel(\"Bounds\")\n",
        "plt.show()"
      ],
      "metadata": {
        "colab": {
          "base_uri": "https://localhost:8080/",
          "height": 541
        },
        "id": "DvKzpEZk5Muk",
        "outputId": "f877ebcf-c3bc-4b41-acbf-1c1c6d158aae"
      },
      "execution_count": null,
      "outputs": [
        {
          "output_type": "display_data",
          "data": {
            "text/plain": [
              "<Figure size 432x288 with 1 Axes>"
            ],
            "image/png": "[encoded data removed]"
          },
          "metadata": {
            "needs_background": "light"
          }
        },
        {
          "output_type": "display_data",
          "data": {
            "text/plain": [
              "<Figure size 432x288 with 1 Axes>"
            ],
            "image/png": "[encoded data removed]"
          },
          "metadata": {
            "needs_background": "light"
          }
        }
      ]
    },
    {
      "cell_type": "code",
      "source": [
        "##### Distribution of delta as a function of a ###\n",
        "\n",
        "prob = []\n",
        "delta_val = 0.1\n",
        "\n",
        "a_val = [1.5,1.4,1.3,1.2,1.1,1.0,0.9,0.8,0.7,0.6,0.5,0.4,0.3,0.2,0.1]\n",
        "\n",
        "bound = []\n",
        "prob = []\n",
        "\n",
        "for j in range(0,np.shape(a_val)[0]):\n",
        "    #print(j)\n",
        "    m = 50 #size of matrix\n",
        "    n = 1000 # #-of samples\n",
        "\n",
        "    sample = np.random.uniform(low = a_val[j], high=2.0, size =(m,m,n))\n",
        "    r = np.zeros(m)+1\n",
        "    c = r\n",
        "\n",
        "    avg = (a_val[j] + 2)/2  \n",
        "    mean = np.zeros((m,m))+avg\n",
        "    x,y,B_1 = matrix_scaling(mean,r,c)\n",
        "    x_mean, y_mean = normalise(x,y)\n",
        "\n",
        "    #Distribution of row and column scaling: Cutoff less than 1 (Necessary to apply stability of scaling factors result)\n",
        "\n",
        "    max_row_change = []\n",
        "    max_col_change = []\n",
        "    p = 0\n",
        "\n",
        "    for i in range(0,n):\n",
        "        B = np.diag(x_mean)@sample[:,:,i]@np.diag(y_mean)\n",
        "        row_sum = B@r \n",
        "        col_sum = B.T@c\n",
        "    \n",
        "        row_sum_change = np.abs(row_sum-1)\n",
        "        col_sum_change = np.abs(col_sum-1)\n",
        "    \n",
        "        max_row_change = max_row_change + [np.max(row_sum_change)]\n",
        "        max_col_change = max_col_change + [np.max(col_sum_change)]\n",
        "        if np.maximum(np.max(row_sum_change), np.max(col_sum_change)) <= delta_val:\n",
        "          p = p+1\n",
        "    prob = prob + [p]\n",
        "    print(j,p)\n"
      ],
      "metadata": {
        "colab": {
          "base_uri": "https://localhost:8080/"
        },
        "id": "5KgeD9E9Vnzl",
        "outputId": "c601c7c0-6ec2-429c-a395-f49cb26f98ea"
      },
      "execution_count": null,
      "outputs": [
        {
          "output_type": "stream",
          "name": "stdout",
          "text": [
            "0 1000\n",
            "1 1000\n",
            "2 1000\n",
            "3 1000\n",
            "4 998\n",
            "5 980\n",
            "6 879\n",
            "7 659\n",
            "8 360\n",
            "9 106\n",
            "10 16\n",
            "11 0\n",
            "12 0\n",
            "13 0\n",
            "14 0\n"
          ]
        }
      ]
    },
    {
      "cell_type": "code",
      "source": [
        "####### Plotting minimum and maximum values as a function of a\n",
        "\n",
        "prob = []\n",
        "min_scal = []\n",
        "max_scal = []\n",
        "\n",
        "print(\"a_val, min scaling.  , max scaling.   , 0.8 quantile\") \n",
        "a_val = [1.5,1.4,1.3,1.2,1.1,1.0,0.9,0.8,0.7,0.6,0.5,0.4,0.3,0.2,0.1]\n",
        "\n",
        "for j in range(0,np.shape(a_val)[0]):\n",
        "    #print(j)\n",
        "    m = 50 #size of matrix\n",
        "    n = 1000 # #-of samples\n",
        "    b = 2\n",
        "\n",
        "    sample = np.random.uniform(low = a_val[j], high=2.0, size =(m,m,n))\n",
        "    r = np.zeros(m)+1\n",
        "    c = r\n",
        "    \n",
        "    avg = (a_val[j]+b)/2\n",
        "    mean = np.zeros((m,m))+avg\n",
        "    x,y,B_1 = matrix_scaling(mean,r,c)\n",
        "    x_mean, y_mean = normalise(x,y)\n",
        "\n",
        "    #Distribution of row and column scaling: Cutoff less than 1 (Necessary to apply stability of scaling factors result)\n",
        "\n",
        "    max_row_change = []\n",
        "    max_col_change = []\n",
        "    p = 0\n",
        "\n",
        "    for i in range(0,n):\n",
        "        B = np.diag(x_mean)@sample[:,:,i]@np.diag(y_mean)\n",
        "        row_sum = B@r \n",
        "        col_sum = B.T@c\n",
        "    \n",
        "        row_sum_change = np.abs(row_sum-1)\n",
        "        col_sum_change = np.abs(col_sum-1)\n",
        "    \n",
        "        max_row_change = max_row_change + [np.max(row_sum_change)]\n",
        "        max_col_change = max_col_change + [np.max(col_sum_change)]\n",
        "        max_row_change = max_row_change + [np.max(row_sum_change)]\n",
        "        max_col_change = max_col_change + [np.max(col_sum_change)]\n",
        "\n",
        "    delta_vals = np.maximum(np.array(max_row_change), np.array(max_col_change))\n",
        "    min_scal= min_scal + [np.min(delta_vals)]\n",
        "    max_scal= max_scal + [np.max(delta_vals)]\n",
        "    delta_vals = np.maximum(np.array(max_row_change), np.array(max_col_change))\n",
        "    delta = delta + [np.quantile(delta_vals, 0.8)]\n",
        "    hoff = 1 - 4*m*math.exp(-1*(0.6**2)*m*(a_val[j]**4)/(2*(b**2)*(b - a_val[j])**2))\n",
        "\n",
        "    print(a_val[j],np.min(delta_vals),np.max(delta_vals), np.quantile(delta_vals, 0.8), hoff)\n"
      ],
      "metadata": {
        "colab": {
          "base_uri": "https://localhost:8080/"
        },
        "id": "SC_wUCjaWUGR",
        "outputId": "011ab795-5996-4e28-f087-273bb7456c1a"
      },
      "execution_count": null,
      "outputs": [
        {
          "output_type": "stream",
          "name": "stdout",
          "text": [
            "a_val, min scaling.  , max scaling.   , 0.8 quantile\n",
            "1.5 0.021865267202815453 0.05747644257905371 0.03494932840364939 1.0\n",
            "1.4 0.026999514176086037 0.06027933276374564 0.0435704246507338 0.9999999925248574\n",
            "1.3 0.03149909836466991 0.07541271643756753 0.052735177971579145 0.9995969409704408\n",
            "1.2 0.039107465086322124 0.09467821529224985 0.06196101220828822 0.8635343894487244\n",
            "1.1 0.043797701344890805 0.09784226173179111 0.07154221380861911 -2.4259298437812205\n",
            "1.0 0.05027791970712259 0.14314551166883138 0.08248142955374313 -20.079844912372867\n",
            "0.9 0.055362177487153996 0.13920040953587143 0.094741320017113 -58.04481343803819\n",
            "0.8 0.06613495549221104 0.15011015220663082 0.10695426100352606 -104.45848480860971\n",
            "0.7 0.07087072583152954 0.1743958128538009 0.11983707290950163 -144.27922833010564\n",
            "0.6 0.08037620604471596 0.1952060539669065 0.13372023480558365 -171.35251001700638\n",
            "0.5 0.08498654009280404 0.20710500204340865 0.1488636920451512 -186.88261256269516\n",
            "0.4 0.09870616284394695 0.247624032008269 0.16627326427620118 -194.55024743866727\n",
            "0.3 0.10595137519846642 0.2824228245367144 0.18457527684341568 -197.74272283040764\n",
            "0.2 0.12523431716156375 0.2877154620195309 0.20140319336768114 -198.77790118885585\n",
            "0.1 0.1361644752850093 0.31677684584102295 0.22265498990714946 -198.98753501449457\n"
          ]
        }
      ]
    },
    {
      "cell_type": "code",
      "source": [
        "# Keeping b/a fixed\n",
        "\n",
        "prob = []\n",
        "min_scal = []\n",
        "max_scal = []\n",
        "\n",
        "print(\"a_val, min scaling.  , max scaling.   , 0.8 quantile\") \n",
        "a_val = [1.5,1.4,1.3,1.2,1.1,1.0,0.9,0.8,0.7,0.6,0.5,0.4,0.3,0.2,0.1]\n",
        "\n",
        "for j in range(0,np.shape(a_val)[0]):\n",
        "    #print(j)\n",
        "    m = 50 #size of matrix\n",
        "    n = 1000 # #-of samples\n",
        "\n",
        "    sample = np.random.uniform(low = a_val[j], high=2.0*a_val[j], size =(m,m,n))\n",
        "    r = np.zeros(m)+1\n",
        "    c = r\n",
        "    \n",
        "    avg = (a_val[j])*1.5\n",
        "    mean = np.zeros((m,m))+avg\n",
        "    x,y,B_1 = matrix_scaling(mean,r,c)\n",
        "    x_mean, y_mean = normalise(x,y)\n",
        "\n",
        "    #Distribution of row and column scaling: Cutoff less than 1 (Necessary to apply stability of scaling factors result)\n",
        "\n",
        "    max_row_change = []\n",
        "    max_col_change = []\n",
        "    p = 0\n",
        "\n",
        "    for i in range(0,n):\n",
        "        B = np.diag(x_mean)@sample[:,:,i]@np.diag(y_mean)\n",
        "        row_sum = B@r \n",
        "        col_sum = B.T@c\n",
        "    \n",
        "        row_sum_change = np.abs(row_sum-1)\n",
        "        col_sum_change = np.abs(col_sum-1)\n",
        "    \n",
        "        max_row_change = max_row_change + [np.max(row_sum_change)]\n",
        "        max_col_change = max_col_change + [np.max(col_sum_change)]\n",
        "        max_row_change = max_row_change + [np.max(row_sum_change)]\n",
        "        max_col_change = max_col_change + [np.max(col_sum_change)]\n",
        "\n",
        "    delta_vals = np.maximum(np.array(max_row_change), np.array(max_col_change))\n",
        "    min_scal= min_scal + [np.min(delta_vals)]\n",
        "    max_scal= max_scal + [np.max(delta_vals)]\n",
        "    delta_vals = np.maximum(np.array(max_row_change), np.array(max_col_change))\n",
        "    delta = delta + [np.quantile(delta_vals, 0.8)]\n",
        "\n",
        "    print(a_val[j],np.min(delta_vals),np.max(delta_vals), np.quantile(delta_vals, 0.8))\n",
        "\n"
      ],
      "metadata": {
        "colab": {
          "base_uri": "https://localhost:8080/"
        },
        "id": "qzy0SQh9h6wp",
        "outputId": "989567b4-7d05-447c-bd9c-83fab013308e"
      },
      "execution_count": null,
      "outputs": [
        {
          "output_type": "stream",
          "name": "stdout",
          "text": [
            "a_val, min scaling.  , max scaling.   , 0.8 quantile\n",
            "1.5 0.050530984676532276 0.11274106529688144 0.08345740592235394\n",
            "1.4 0.04938320558263254 0.11206901518389767 0.08154370024708378\n",
            "1.3 0.048562886013846285 0.11539123952893604 0.08235062835638884\n",
            "1.2 0.049050622911994024 0.13252281834866275 0.08210553899504905\n",
            "1.1 0.04825802517474265 0.1237979421633284 0.08309379584748802\n",
            "1.0 0.05078872339545448 0.12196993830625313 0.08400379484375597\n",
            "0.9 0.050983371441992276 0.11988541848993761 0.08186775635724257\n",
            "0.8 0.050040252328244605 0.11495603505534802 0.08268689173984227\n",
            "0.7 0.05192923039680708 0.1305389168846287 0.08441919921008637\n",
            "0.6 0.04745686247960368 0.1301233619412525 0.08257953501550212\n",
            "0.5 0.0468919719625176 0.12137214746123881 0.0828805668432111\n",
            "0.4 0.04737805387065075 0.11182590896451017 0.0818212111656655\n",
            "0.3 0.049620839579706866 0.11524014797075588 0.08282074875482369\n",
            "0.2 0.04916344595721722 0.11563400761273157 0.08281522427751106\n",
            "0.1 0.05087515973891166 0.12059394572227888 0.08308201191535727\n"
          ]
        }
      ]
    },
    {
      "cell_type": "code",
      "source": [
        "######### Analysing dependance on min a ##################################\n",
        "\n",
        "## Analysing Dependance on variance:\n",
        "\n",
        "\n",
        "\n"
      ],
      "metadata": {
        "id": "2_JAz4Olkp7U"
      },
      "execution_count": null,
      "outputs": []
    }
  ]
}